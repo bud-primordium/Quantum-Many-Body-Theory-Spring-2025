{
 "cells": [
  {
   "cell_type": "code",
   "execution_count": 1,
   "id": "60ffa5fb",
   "metadata": {},
   "outputs": [
    {
     "data": {
      "application/vnd.jupyter.widget-view+json": {
       "model_id": "2cee5b72ebd04cdcb145ca2839905906",
       "version_major": 2,
       "version_minor": 0
      },
      "text/plain": []
     },
     "metadata": {},
     "output_type": "display_data"
    }
   ],
   "source": [
    "# 导入和路径设置\n",
    "import py4vasp\n",
    "import pymatgen.core as mg\n",
    "from pymatgen.io.vasp.outputs import Vasprun\n",
    "from pymatgen.electronic_structure.plotter import DosPlotter, BSPlotter\n",
    "import sumo.cli.dosplot # For sumo's python api if available, else use subprocess\n",
    "import sumo.cli.bandplot\n",
    "import subprocess\n",
    "import os\n",
    "import numpy as np\n",
    "import matplotlib.pyplot as plt\n",
    "from IPython.display import Image, display"
   ]
  },
  {
   "cell_type": "code",
   "execution_count": 2,
   "id": "9bdf5294",
   "metadata": {},
   "outputs": [],
   "source": [
    "# --- 基本路径设置 ---\n",
    "tutorial_base_path = \".\" \n",
    "path_e01 = os.path.join(tutorial_base_path, \"e01_Si-G0W0\") # DFT and G0W0\n",
    "path_e01_unoccupied = os.path.join(path_e01, \"unoccupied-states\") # Empty bands calc\n",
    "path_e01_g0w0_single_shot = os.path.join(path_e01, \"single-shot\") # G0W0 calc\n",
    "path_e02 = os.path.join(tutorial_base_path, \"e02_Si-GW0-band\") # GW0\n",
    "path_e02_band_structure_wannier = os.path.join(path_e02, \"band-structure\") # Wannier post-processing\n",
    "# 检查路径是否存在 (可选，但推荐)\n",
    "for p_check in [path_e01, path_e01_unoccupied, path_e01_g0w0_single_shot, path_e02, path_e02_band_structure_wannier]:\n",
    "    if not os.path.exists(p_check):\n",
    "        print(f\"警告: 路径 {p_check} 不存在，请确保已按教程创建目录和文件。\")\n",
    "# KPOINTS_OPT 文件路径 (教程中用于能带图)\n",
    "kpoints_opt_path_e01 = os.path.join(path_e01, \"KPOINTS_OPT\")"
   ]
  },
  {
   "cell_type": "code",
   "execution_count": null,
   "id": "6cfd54ea",
   "metadata": {},
   "outputs": [
    {
     "name": "stdout",
     "output_type": "stream",
     "text": [
      "--- 1.2.2.1: py4vasp - DFT基态能隙和DOS ---\n",
      "PBE band gap (from SCF k-points, py4vasp): 0.7079 eV\n",
      "绘制 PBE DOS (py4vasp)...\n"
     ]
    },
    {
     "data": {
      "application/vnd.plotly.v1+json": {
       "config": {
        "plotlyServerURL": "https://plot.ly"
       },
       "data": [
        {
         "legendgroup": "total",
         "line": {
          "color": "purple"
         },
         "name": "total",
         "showlegend": true,
         "type": "scatter",
         "x": {
          "bdata": "aGERoqj9K8C2xXPlJ9ErwAQq1iinpCvAUo44bCZ4K8Cg8pqvpUsrwO5W/fIkHyvAPLtfNqTyKsCKH8J5I8YqwNiDJL2imSrAJuiGACJtKsB0TOlDoUAqwMKwS4cgFCrAEBWuyp/nKcBeeRAOH7spwKzdclGejinA+kHVlB1iKcBHpjfYnDUpwJUKmhscCSnA4278XpvcKMAx016iGrAowH83weWZgyjAzZsjKRlXKMAbAIZsmCoowGlk6K8X/ifAt8hK85bRJ8AFLa02FqUnwFORD3qVeCfAoPVxvRRMJ8DuWdQAlB8nwDy+NkQT8ybAiiKZh5LGJsDYhvvKEZomwCbrXQ6RbSbAdE/AURBBJsDCsyKVjxQmwBAYhdgO6CXAXnznG467JcCs4ElfDY8lwPpErKKMYiXASKkO5gs2JcCWDXEpiwklwORx02wK3STAMtY1sImwJMCAOpjzCIQkwM6e+jaIVyTAHANdegcrJMBqZ7+9hv4jwLjLIQEG0iPABjCERIWlI8BUlOaHBHkjwKL4SMuDTCPA8FyrDgMgI8A+wQ1SgvMiwIwlcJUBxyLA2onS2ICaIsAo7jQcAG4iwHZSl19/QSLAw7b5ov4UIsARG1zmfeghwF9/vin9uyHAreMgbXyPIcD7R4Ow+2IhwEms5fN6NiHAlxBIN/oJIcDldKp6ed0gwDPZDL74sCDAgT1vAXiEIMDPodFE91cgwB0GNIh2KyDA1tQsl+v9H8BynfEd6qQfwA5mtqToSx/AqS57K+fyHsBF9z+y5ZkewOG/BDnkQB7AfYjJv+LnHcAZUY5G4Y4dwLUZU83fNR3AUeIXVN7cHMDsqtza3IMcwIhzoWHbKhzAJDxm6NnRG8DABCtv2HgbwFzN7/XWHxvA+JW0fNXGGsCUXnkD1G0awDAnPorSFBrAzO8CEdG7GcBouMeXz2IZwASBjB7OCRnAoElRpcywGMA8EhYsy1cYwNfa2rLJ/hfAc6OfOcilF8APbGTAxkwXwKs0KUfF8xbAR/3tzcOaFsDjxbJUwkEWwH+Od9vA6BXAG1c8Yr+PFcC3HwHpvTYVwFLoxW+83RTA7rCK9rqEFMCKeU99uSsUwCZCFAS40hPAwgrZirZ5E8Be050RtSATwPqbYpizxxLAlmQnH7JuEsAyLeylsBUSwM71sCyvvBHAar51s61jEcAGhzo6rAoRwKJP/8CqsRDAPRjER6lYEMCywRGdT/8PwOpSm6pMTQ/AIuQkuEmbDsBada7FRukNwJIGONNDNw3AypfB4ECFDMABKUvuPdMLwDm61Ps6IQvAcUteCThvCsCp3OcWNb0JwOFtcSQyCwnAGP/6MS9ZCMBQkIQ/LKcHwIghDk0p9QbAwLKXWiZDBsD4QyFoI5EFwC/VqnUg3wTAZ2Y0gx0tBMCf972QGnsDwNeIR54XyQLADxrRqxQXAsBGq1q5EWUBwH485MYOswDAts1t1AsBAMDcve7DEZ7+v0zgAd8LOv2/vAIV+gXW+78qJSgVAHL6v5pHOzD6Dfm/CGpOS/Sp9794jGFm7kX2v+iudIHo4fS/WNGHnOJ987/I85q33BnyvzgWrtLWtfC/UHGC26Gj7r8wtqgRltvrvxD7zkeKE+m/8D/1fX5L5r/QhBu0coPjv6jJQepmu+C/EB3QQLbm27/QphytnlbWv5AwaRmHxtC/oHRrC99sxr9AEAnIX5m2vwDQzU5eQFa/wKGS1VzntT9gPTCS3RPGP/CUy1wGmtA/MAt/8B0q1j+AgTKENbrbP+D78osmpeA/ALfMVTJt4z8gcqYfPjXmP0AtgOlJ/eg/YOhZs1XF6z+AozN9YY3uP1CvhqO2qvA/4IxziLwO8j9wamBtwnLzPwBITVLI1vQ/lCU6N8469j8kAycc1J73P7TgEwHaAvk/RL4A5t9m+j/Um+3K5cr7P2R52q/rLv0/9FbHlPGS/j+ENLR59/b/PwqJUK9+rQBA0vfGoYFfAUCcZj2UhBECQGTVs4aHwwJALEQqeYp1A0D0sqBrjScEQLwhF16Q2QRAhJCNUJOLBUBM/wNDlj0GQBRuejWZ7wZA3NzwJ5yhB0CkS2can1MIQGy63QyiBQlANClU/6S3CUD8l8rxp2kKQMQGQeSqGwtAjHW31q3NC0BU5C3JsH8MQCBTpLuzMQ1A6MEarrbjDUCwMJGguZUOQHifB5O8Rw9AQA5+hb/5D0CEPvo74VUQQOh1NbXirhBATK1wLuQHEUCw5Kun5WARQBQc5yDnuRFAeFMimugSEkDcil0T6msSQEDCmIzrxBJApPnTBe0dE0AIMQ9/7nYTQGxoSvjvzxNA0J+FcfEoFEA018Dq8oEUQJgO/GP02hRA/EU33fUzFUBgfXJW94wVQMS0rc/45RVAKuzoSPo+FkCOIyTC+5cWQPJaXzv98BZAVpKatP5JF0C6ydUtAKMXQB4BEacB/BdAgjhMIANVGEDmb4eZBK4YQEqnwhIGBxlArt79iwdgGUASFjkFCbkZQHZNdH4KEhpA2oSv9wtrGkA+vOpwDcQaQKLzJeoOHRtABithYxB2G0BqYpzcEc8bQM6Z11UTKBxAMtESzxSBHECWCE5IFtocQPo/icEXMx1AYHfEOhmMHUDErv+zGuUdQCjmOi0cPh5AjB12ph2XHkDwVLEfH/AeQFSM7JggSR9AuMMnEiKiH0Ac+2KLI/sfQEAZT4ISKiBA8rTsPpNWIECkUIr7E4MgQFbsJ7iUryBACIjFdBXcIEC6I2MxlgghQGy/AO4WNSFAHlueqpdhIUDQ9jtnGI4hQIKS2SOZuiFANC534BnnIUDmyRSdmhMiQJhlslkbQCJASwFQFpxsIkD9nO3SHJkiQK84i4+dxSJAYdQoTB7yIkATcMYInx4jQMULZMUfSyNAd6cBgqB3I0ApQ58+IaQjQNvePPuh0CNAjXratyL9I0A/Fnh0oykkQPGxFTEkViRAo02z7aSCJEBV6VCqJa8kQAeF7mam2yRAuiCMIycIJUBsvCngpzQlQB5Yx5woYSVA0PNkWamNJUCCjwIWKrolQDQroNKq5iVA5sY9jysTJkCYYttLrD8mQEr+eAgtbCZA/JkWxa2YJkCuNbSBLsUmQGDRUT6v8SZAEm3v+i8eJ0DECI23sEonQHakKnQxdydAKEDIMLKjJ0Da22XtMtAnQIx3A6qz/CdAPhOhZjQpKEA=",
          "dtype": "f8"
         },
         "y": {
          "bdata": "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",
          "dtype": "f8"
         },
         "yaxis": "y"
        }
       ],
       "layout": {
        "legend": {
         "itemsizing": "constant"
        },
        "template": {
         "data": {
          "bar": [
           {
            "error_x": {
             "color": "rgb(51,51,51)"
            },
            "error_y": {
             "color": "rgb(51,51,51)"
            },
            "marker": {
             "line": {
              "color": "rgb(237,237,237)",
              "width": 0.5
             },
             "pattern": {
              "fillmode": "overlay",
              "size": 10,
              "solidity": 0.2
             }
            },
            "type": "bar"
           }
          ],
          "barpolar": [
           {
            "marker": {
             "line": {
              "color": "rgb(237,237,237)",
              "width": 0.5
             },
             "pattern": {
              "fillmode": "overlay",
              "size": 10,
              "solidity": 0.2
             }
            },
            "type": "barpolar"
           }
          ],
          "carpet": [
           {
            "aaxis": {
             "endlinecolor": "rgb(51,51,51)",
             "gridcolor": "white",
             "linecolor": "white",
             "minorgridcolor": "white",
             "startlinecolor": "rgb(51,51,51)"
            },
            "baxis": {
             "endlinecolor": "rgb(51,51,51)",
             "gridcolor": "white",
             "linecolor": "white",
             "minorgridcolor": "white",
             "startlinecolor": "rgb(51,51,51)"
            },
            "type": "carpet"
           }
          ],
          "choropleth": [
           {
            "colorbar": {
             "outlinewidth": 0,
             "tickcolor": "rgb(237,237,237)",
             "ticklen": 6,
             "ticks": "inside"
            },
            "type": "choropleth"
           }
          ],
          "contour": [
           {
            "colorbar": {
             "outlinewidth": 0,
             "tickcolor": "rgb(237,237,237)",
             "ticklen": 6,
             "ticks": "inside"
            },
            "colorscale": [
             [
              0,
              "#3E70EA"
             ],
             [
              0.5,
              "#424242"
             ],
             [
              1,
              "#A82C35"
             ]
            ],
            "type": "contour"
           }
          ],
          "contourcarpet": [
           {
            "colorbar": {
             "outlinewidth": 0,
             "tickcolor": "rgb(237,237,237)",
             "ticklen": 6,
             "ticks": "inside"
            },
            "type": "contourcarpet"
           }
          ],
          "heatmap": [
           {
            "colorbar": {
             "outlinewidth": 0,
             "tickcolor": "rgb(237,237,237)",
             "ticklen": 6,
             "ticks": "inside"
            },
            "colorscale": [
             [
              0,
              "rgb(20,44,66)"
             ],
             [
              1,
              "rgb(90,179,244)"
             ]
            ],
            "type": "heatmap"
           }
          ],
          "histogram": [
           {
            "marker": {
             "pattern": {
              "fillmode": "overlay",
              "size": 10,
              "solidity": 0.2
             }
            },
            "type": "histogram"
           }
          ],
          "histogram2d": [
           {
            "colorbar": {
             "outlinewidth": 0,
             "tickcolor": "rgb(237,237,237)",
             "ticklen": 6,
             "ticks": "inside"
            },
            "colorscale": [
             [
              0,
              "rgb(20,44,66)"
             ],
             [
              1,
              "rgb(90,179,244)"
             ]
            ],
            "type": "histogram2d"
           }
          ],
          "histogram2dcontour": [
           {
            "colorbar": {
             "outlinewidth": 0,
             "tickcolor": "rgb(237,237,237)",
             "ticklen": 6,
             "ticks": "inside"
            },
            "colorscale": [
             [
              0,
              "rgb(20,44,66)"
             ],
             [
              1,
              "rgb(90,179,244)"
             ]
            ],
            "type": "histogram2dcontour"
           }
          ],
          "mesh3d": [
           {
            "colorbar": {
             "outlinewidth": 0,
             "tickcolor": "rgb(237,237,237)",
             "ticklen": 6,
             "ticks": "inside"
            },
            "type": "mesh3d"
           }
          ],
          "parcoords": [
           {
            "line": {
             "colorbar": {
              "outlinewidth": 0,
              "tickcolor": "rgb(237,237,237)",
              "ticklen": 6,
              "ticks": "inside"
             }
            },
            "type": "parcoords"
           }
          ],
          "pie": [
           {
            "automargin": true,
            "type": "pie"
           }
          ],
          "scatter": [
           {
            "fillpattern": {
             "fillmode": "overlay",
             "size": 10,
             "solidity": 0.2
            },
            "type": "scatter"
           }
          ],
          "scatter3d": [
           {
            "line": {
             "colorbar": {
              "outlinewidth": 0,
              "tickcolor": "rgb(237,237,237)",
              "ticklen": 6,
              "ticks": "inside"
             }
            },
            "marker": {
             "colorbar": {
              "outlinewidth": 0,
              "tickcolor": "rgb(237,237,237)",
              "ticklen": 6,
              "ticks": "inside"
             }
            },
            "type": "scatter3d"
           }
          ],
          "scattercarpet": [
           {
            "marker": {
             "colorbar": {
              "outlinewidth": 0,
              "tickcolor": "rgb(237,237,237)",
              "ticklen": 6,
              "ticks": "inside"
             }
            },
            "type": "scattercarpet"
           }
          ],
          "scattergeo": [
           {
            "marker": {
             "colorbar": {
              "outlinewidth": 0,
              "tickcolor": "rgb(237,237,237)",
              "ticklen": 6,
              "ticks": "inside"
             }
            },
            "type": "scattergeo"
           }
          ],
          "scattergl": [
           {
            "marker": {
             "colorbar": {
              "outlinewidth": 0,
              "tickcolor": "rgb(237,237,237)",
              "ticklen": 6,
              "ticks": "inside"
             }
            },
            "type": "scattergl"
           }
          ],
          "scattermap": [
           {
            "marker": {
             "colorbar": {
              "outlinewidth": 0,
              "tickcolor": "rgb(237,237,237)",
              "ticklen": 6,
              "ticks": "inside"
             }
            },
            "type": "scattermap"
           }
          ],
          "scattermapbox": [
           {
            "marker": {
             "colorbar": {
              "outlinewidth": 0,
              "tickcolor": "rgb(237,237,237)",
              "ticklen": 6,
              "ticks": "inside"
             }
            },
            "type": "scattermapbox"
           }
          ],
          "scatterpolar": [
           {
            "marker": {
             "colorbar": {
              "outlinewidth": 0,
              "tickcolor": "rgb(237,237,237)",
              "ticklen": 6,
              "ticks": "inside"
             }
            },
            "type": "scatterpolar"
           }
          ],
          "scatterpolargl": [
           {
            "marker": {
             "colorbar": {
              "outlinewidth": 0,
              "tickcolor": "rgb(237,237,237)",
              "ticklen": 6,
              "ticks": "inside"
             }
            },
            "type": "scatterpolargl"
           }
          ],
          "scatterternary": [
           {
            "marker": {
             "colorbar": {
              "outlinewidth": 0,
              "tickcolor": "rgb(237,237,237)",
              "ticklen": 6,
              "ticks": "inside"
             }
            },
            "type": "scatterternary"
           }
          ],
          "surface": [
           {
            "colorbar": {
             "outlinewidth": 0,
             "tickcolor": "rgb(237,237,237)",
             "ticklen": 6,
             "ticks": "inside"
            },
            "colorscale": [
             [
              0,
              "rgb(20,44,66)"
             ],
             [
              1,
              "rgb(90,179,244)"
             ]
            ],
            "type": "surface"
           }
          ],
          "table": [
           {
            "cells": {
             "fill": {
              "color": "rgb(237,237,237)"
             },
             "line": {
              "color": "white"
             }
            },
            "header": {
             "fill": {
              "color": "rgb(217,217,217)"
             },
             "line": {
              "color": "white"
             }
            },
            "type": "table"
           }
          ]
         },
         "layout": {
          "annotationdefaults": {
           "arrowhead": 0,
           "arrowwidth": 1
          },
          "autotypenumbers": "strict",
          "coloraxis": {
           "colorbar": {
            "outlinewidth": 0,
            "tickcolor": "rgb(237,237,237)",
            "ticklen": 6,
            "ticks": "inside"
           }
          },
          "colorscale": {
           "sequential": [
            [
             0,
             "rgb(20,44,66)"
            ],
            [
             1,
             "rgb(90,179,244)"
            ]
           ],
           "sequentialminus": [
            [
             0,
             "rgb(20,44,66)"
            ],
            [
             1,
             "rgb(90,179,244)"
            ]
           ]
          },
          "colorway": [
           "#8342A4",
           "#35CABF",
           "#3E70EA",
           "#A82C35",
           "#424242",
           "#202429",
           "#89AD01"
          ],
          "font": {
           "color": "rgb(51,51,51)"
          },
          "geo": {
           "bgcolor": "white",
           "lakecolor": "white",
           "landcolor": "rgb(237,237,237)",
           "showlakes": true,
           "showland": true,
           "subunitcolor": "white"
          },
          "hoverlabel": {
           "align": "left"
          },
          "hovermode": "closest",
          "paper_bgcolor": "white",
          "plot_bgcolor": "rgb(237,237,237)",
          "polar": {
           "angularaxis": {
            "gridcolor": "white",
            "linecolor": "white",
            "showgrid": true,
            "tickcolor": "rgb(51,51,51)",
            "ticks": "outside"
           },
           "bgcolor": "rgb(237,237,237)",
           "radialaxis": {
            "gridcolor": "white",
            "linecolor": "white",
            "showgrid": true,
            "tickcolor": "rgb(51,51,51)",
            "ticks": "outside"
           }
          },
          "scene": {
           "xaxis": {
            "backgroundcolor": "rgb(237,237,237)",
            "gridcolor": "white",
            "gridwidth": 2,
            "linecolor": "white",
            "showbackground": true,
            "showgrid": true,
            "tickcolor": "rgb(51,51,51)",
            "ticks": "outside",
            "zerolinecolor": "white"
           },
           "yaxis": {
            "backgroundcolor": "rgb(237,237,237)",
            "gridcolor": "white",
            "gridwidth": 2,
            "linecolor": "white",
            "showbackground": true,
            "showgrid": true,
            "tickcolor": "rgb(51,51,51)",
            "ticks": "outside",
            "zerolinecolor": "white"
           },
           "zaxis": {
            "backgroundcolor": "rgb(237,237,237)",
            "gridcolor": "white",
            "gridwidth": 2,
            "linecolor": "white",
            "showbackground": true,
            "showgrid": true,
            "tickcolor": "rgb(51,51,51)",
            "ticks": "outside",
            "zerolinecolor": "white"
           }
          },
          "ternary": {
           "aaxis": {
            "gridcolor": "white",
            "linecolor": "white",
            "showgrid": true,
            "tickcolor": "rgb(51,51,51)",
            "ticks": "outside"
           },
           "baxis": {
            "gridcolor": "white",
            "linecolor": "white",
            "showgrid": true,
            "tickcolor": "rgb(51,51,51)",
            "ticks": "outside"
           },
           "bgcolor": "rgb(237,237,237)",
           "caxis": {
            "gridcolor": "white",
            "linecolor": "white",
            "showgrid": true,
            "tickcolor": "rgb(51,51,51)",
            "ticks": "outside"
           }
          },
          "xaxis": {
           "automargin": true,
           "exponentformat": "power",
           "gridcolor": "white",
           "linecolor": "white",
           "showexponent": "all",
           "showgrid": true,
           "tickcolor": "rgb(51,51,51)",
           "ticks": "outside",
           "title": {
            "standoff": 15
           },
           "zerolinecolor": "white"
          },
          "yaxis": {
           "automargin": true,
           "exponentformat": "power",
           "gridcolor": "white",
           "linecolor": "white",
           "showexponent": "all",
           "showgrid": true,
           "tickcolor": "rgb(51,51,51)",
           "ticks": "outside",
           "title": {
            "standoff": 15
           },
           "zerolinecolor": "white"
          }
         }
        },
        "xaxis": {
         "title": {
          "text": "Energy (eV)"
         }
        },
        "yaxis": {
         "title": {
          "text": "DOS (1/eV)"
         }
        }
       }
      }
     },
     "metadata": {},
     "output_type": "display_data"
    }
   ],
   "source": [
    "#  py4vasp - DFT基态能隙和DOS\n",
    "print(\"--- 1.2.2.1: py4vasp - DFT基态能隙和DOS ---\")\n",
    "try:\n",
    "    # py4vasp.Calculation.from_path 会自动寻找 vaspout.h5, vasprun.xml, OUTCAR\n",
    "    dft_calc_py4vasp = py4vasp.Calculation.from_path(path_e01)\n",
    "    \n",
    "    # 获取能隙 (HOMO-LUMO gap from the k-point grid of the SCF calculation)\n",
    "    # py4vasp 的能隙获取可能没有pymatgen那么直接的 get_band_gap()\n",
    "    # 教程中的 gap 函数:\n",
    "    def gap_py4vasp(calc_obj):\n",
    "        band_data = calc_obj.band.to_dict() # 获取能带和占据数数据\n",
    "        occupations = np.array(band_data['occupations'])\n",
    "        bands = np.array(band_data['bands'])\n",
    "        \n",
    "        # 确保维度正确，bands可能是 (num_spins, num_kpoints, num_bands) 或 (num_kpoints, num_bands)\n",
    "        # occupations 类似\n",
    "        if bands.ndim == 3: # Spin-polarized\n",
    "            homo = -np.inf\n",
    "            lumo = np.inf\n",
    "            for spin_idx in range(bands.shape[0]):\n",
    "                occupied_bands_spin = bands[spin_idx][occupations[spin_idx] > 0.5]\n",
    "                unoccupied_bands_spin = bands[spin_idx][occupations[spin_idx] < 0.5]\n",
    "                if occupied_bands_spin.size > 0:\n",
    "                    homo = max(homo, np.amax(occupied_bands_spin))\n",
    "                if unoccupied_bands_spin.size > 0:\n",
    "                    lumo = min(lumo, np.amin(unoccupied_bands_spin))\n",
    "        else: # Non-spin-polarized\n",
    "            occupied_bands = bands[occupations > 0.5]\n",
    "            unoccupied_bands = bands[occupations < 0.5]\n",
    "            if occupied_bands.size == 0 or unoccupied_bands.size == 0:\n",
    "                 print(\"警告: 未找到占据带或非占据带，无法计算能隙。检查vasp计算。\")\n",
    "                 return None\n",
    "            homo = np.amax(occupied_bands)\n",
    "            lumo = np.amin(unoccupied_bands)\n",
    "            \n",
    "        if homo == -np.inf or lumo == np.inf:\n",
    "             print(\"警告: HOMO或LUMO未找到，无法计算能隙。\")\n",
    "             return None\n",
    "        return lumo - homo\n",
    "\n",
    "    pbe_gap_py4vasp = gap_py4vasp(dft_calc_py4vasp)\n",
    "    if pbe_gap_py4vasp is not None:\n",
    "        print(f\"PBE band gap (from SCF k-points, py4vasp): {pbe_gap_py4vasp:.4f} eV\")\n",
    "    else:\n",
    "        print(\"无法使用py4vasp计算PBE能隙。\")\n",
    "\n",
    "    # 绘制DOS\n",
    "    print(\"绘制 PBE DOS (py4vasp)...\")\n",
    "    dos_plot_py4vasp = dft_calc_py4vasp.dos.plot() # 返回一个figure对象\n",
    "    if dos_plot_py4vasp:\n",
    "        dos_plot_py4vasp.show() # 在notebook中通常会自动显示\n",
    "        # 如果需要在之后显示，或保存\n",
    "        # import matplotlib.pyplot as plt # 确保导入\n",
    "        # plt.show() # 来显示所有打开的图\n",
    "        # dos_plot_py4vasp.savefig(os.path.join(path_e01, \"si_pbe_dos_py4vasp.png\"))\n",
    "        pass # 在Jupyter中，plot()通常会直接显示\n",
    "    else:\n",
    "        print(\"py4vasp未能生成DOS图。\")\n",
    "        \n",
    "except Exception as e:\n",
    "    print(f\"py4vasp处理DFT基态时出错: {e}\")\n",
    "    print(\"提示: 确保VASP计算已在 {path_e01} 完成，并且输出了vaspout.h5或vasprun.xml。\")\n"
   ]
  },
  {
   "cell_type": "code",
   "execution_count": null,
   "id": "8f541c60",
   "metadata": {},
   "outputs": [
    {
     "name": "stdout",
     "output_type": "stream",
     "text": [
      "\n",
      "--- 1.2.2.2: Pymatgen - DFT基态能隙 ---\n",
      "PBE能隙 (Pymatgen, from SCF vasprun.xml):\n",
      "  能隙大小: 0.5814 eV\n",
      "  是否直接带隙: False\n",
      "  VBM: 5.4736 eV (E_fermi: 5.5045 eV)\n",
      "  CBM: 6.0550 eV\n"
     ]
    }
   ],
   "source": [
    "#  Pymatgen - DFT基态能隙\n",
    "print(\"\\n--- 1.2.2.2: Pymatgen - DFT基态能隙 ---\")\n",
    "dft_vasprun_path = os.path.join(path_e01, \"vasprun.xml\")\n",
    "try:\n",
    "    if not os.path.exists(dft_vasprun_path):\n",
    "        raise FileNotFoundError(f\"vasprun.xml not found at {dft_vasprun_path}\")\n",
    "        \n",
    "    run_dft_pmg = Vasprun(dft_vasprun_path)\n",
    "    if run_dft_pmg.converged:\n",
    "        bs_dft_pmg = run_dft_pmg.get_band_structure() # 从SCF的k点获取\n",
    "        gap_info_dft_pmg = bs_dft_pmg.get_band_gap()\n",
    "        fermi_dft_pmg = run_dft_pmg.efermi\n",
    "\n",
    "        if gap_info_dft_pmg and gap_info_dft_pmg['energy'] > 0:\n",
    "            print(f\"PBE能隙 (Pymatgen, from SCF vasprun.xml):\")\n",
    "            print(f\"  能隙大小: {gap_info_dft_pmg['energy']:.4f} eV\")\n",
    "            print(f\"  是否直接带隙: {gap_info_dft_pmg['direct']}\")\n",
    "            vbm_dft_pmg = bs_dft_pmg.get_vbm()\n",
    "            cbm_dft_pmg = bs_dft_pmg.get_cbm()\n",
    "            print(f\"  VBM: {vbm_dft_pmg['energy']:.4f} eV (E_fermi: {fermi_dft_pmg:.4f} eV)\")\n",
    "            print(f\"  CBM: {cbm_dft_pmg['energy']:.4f} eV\")\n",
    "        else:\n",
    "            print(\"Pymatgen: PBE计算结果显示为金属或未能确定能隙。\")\n",
    "    else:\n",
    "        print(f\"Pymatgen: SCF计算 ({dft_vasprun_path}) 未收敛。\")\n",
    "except FileNotFoundError:\n",
    "    print(f\"错误: {dft_vasprun_path} 未找到。\")\n",
    "except Exception as e:\n",
    "    print(f\"Pymatgen处理DFT基态vasprun.xml时出错: {e}\")\n"
   ]
  },
  {
   "cell_type": "code",
   "execution_count": null,
   "id": "70c4906d",
   "metadata": {},
   "outputs": [
    {
     "name": "stdout",
     "output_type": "stream",
     "text": [
      "\n",
      "--- 1.2.2.3: Sumo - DFT基态DOS ---\n",
      "执行Sumo命令: sumo-dosplot -f ./e01_Si-G0W0/vasprun.xml --elements Si --orbitals s,p --xlabel Energy (eV) --ylabel DOS (1/eV) --style seaborn-v0_8-pastel --directory ./e01_Si-G0W0/si_pbe_dos_sumo\n",
      "Sumo DOS图已保存到: ./e01_Si-G0W0/si_pbe_dos_sumo\n"
     ]
    }
   ],
   "source": [
    "#  Sumo - DFT基态DOS\n",
    "print(\"\\n--- 1.2.2.3: Sumo - DFT基态DOS ---\")\n",
    "dft_vasprun_path = os.path.join(path_e01, \"vasprun.xml\")\n",
    "dos_image_sumo_path = os.path.join(path_e01, \"si_pbe_dos_sumo\")\n",
    "# Sumo 命令行绘图\n",
    "sumo_dos_cmd = [\n",
    "    \"sumo-dosplot\",\n",
    "    \"-f\", dft_vasprun_path,             # 使用 -f 指定输入的vasprun.xml\n",
    "    \"--elements\", \"Si\",                 # 指定元素\n",
    "    \"--orbitals\", \"s,p\",            # 使用 --orbitals 指定Si的s,p轨道\n",
    "    \"--xlabel\", \"Energy (eV)\",\n",
    "    \"--ylabel\", \"DOS (1/eV)\", # f.u. = formula unit\n",
    "    # \"--legend-on\",                    # 移除，图例通常默认开启\n",
    "    \"--style\", \"seaborn-v0_8-pastel\",\n",
    "    \"--directory\", dos_image_sumo_path,  # 指定输出文件名\n",
    "    # \"--nogui\"                         # 移除，指定输出文件时通常默认无GUI\n",
    "]\n",
    "print(f\"执行Sumo命令: {' '.join(sumo_dos_cmd)}\")\n",
    "result = subprocess.run(sumo_dos_cmd, check=True, capture_output=True, text=True)\n",
    "print(f\"Sumo DOS图已保存到: {dos_image_sumo_path}\")\n"
   ]
  },
  {
   "cell_type": "code",
   "execution_count": null,
   "id": "facc01bc",
   "metadata": {},
   "outputs": [
    {
     "name": "stdout",
     "output_type": "stream",
     "text": [
      "\n",
      "--- 1.2.2.4: py4vasp - 绘制PBE能带结构 (尝试使用KPOINTS_OPT) ---\n"
     ]
    },
    {
     "data": {
      "application/vnd.plotly.v1+json": {
       "config": {
        "plotlyServerURL": "https://plot.ly"
       },
       "data": [
        {
         "legendgroup": "bands",
         "line": {
          "color": "purple"
         },
         "name": "bands",
         "showlegend": true,
         "type": "scatter",
         "x": {
          "bdata": "AAAAAAAAAADkyEPeG/SUP+TIQ94b9KQ/Vq1lzSlurz/kyEPeG/S0Px671NUiMbo/Vq1lzSluvz/HT3timFXCP+TIQ94b9MQ/AUIMWp+Sxz8BQgxan5LHP/UQ1VCvf8g/6d+dR79syT/ermY+z1nKP9J9LzXfRss/xkz4K+8zzD+6G8Ei/yDNP67qiRkPDs4/orlSEB/7zj+WiBsHL+jPP5aIGwcv6M8/uvq6da9X0T8oMehnR7vSP5ZnFVrfHtQ/BJ5CTHeC1T9y1G8+D+bWP+EKnTCnSdg/T0HKIj+t2T+9d/cU1xDbPyyuJAdvdNw/LK4kB2903D8LIfJMxpbdP+uTv5Idud4/ygaN2HTb3z/VPC0P5n7gP0T2E7IREOE/tK/6VD2h4T8jaeH3aDLiP5MiyJqUw+I/A9yuPcBU4z8D3K49wFTjP31DEzlIy+M/96p3NNBB5D9xEtwvWLjkP+t5QCvgLuU/ZeGkJmil5T/gSAki8BvmP1qwbR14kuY/1BfSGAAJ5z9OfzYUiH/nP05/NhSIf+c/co6vg1jT5z+VnSjzKCfoP7msoWL5eug/3Lsa0snO6D8Ay5NBmiLpPyPaDLFqduk/R+mFIDvK6T9q+P6PCx7qP44HeP/bceo/",
          "dtype": "f8"
         },
         "y": {
          "bdata": "aW5KOvA8KMCbPNugRiEowGC+wxhxzifAf0wWFQNFJ8B5B7GDAIYmwP2VJkLfkiXAEg/EV7JtJMCOBPkHRhkjwPZup8ZAmSHArkdcPb/kH8CeR1w9v+QfwJpks6CZ5x/AvFP3RpTwH8Ay0TaQcgAgwP7EcJpGDSDALCh0axwgIMBaPHVMiTogwDaVxIktXiDAgvpl7W2MIMDKvMQQKcYgwDXXxBApxiDAlFTRnxC1IcCgWGx05eUiwH3q3zczJiTAnHbFT3BSJcAYTF+xslYmwIZjOhc3KCfAW1cU0QjBJ8Dj3p3j1h0owHtuSjrwPCjAhm5KOvA8KMB8X4cDNCgowOIUMzQ96ifACB56cfeDJ8CABB7RNPcmwMLZJ/R3RybA9PQhoNN7JcCAYhEZBaQkwNUFkMVV5iPAHvVNjceSI8CE9E2Nx5IjwPHBXTfxhCPAfm1vpYxbI8AUlp1U/RYjwHKgKHT4tyLA5rGZvKg/IsC+vQ1S7K8hwOZpZoTJCyHAjYAjj1dYIMASQ30qpzwfwLBCfSqnPB/A/jA7lTtCH8AY++lCGFIfwEdrWLjUaR/AuuyKcRaGH8DbktEOLKMfwIwJ9WemvR/Aj+YgCKrSH8CkDhk/HuAfwJhHXD2/5B/A",
          "dtype": "f8"
         },
         "yaxis": "y"
        },
        {
         "legendgroup": "bands",
         "line": {
          "color": "purple"
         },
         "name": "bands",
         "showlegend": false,
         "type": "scatter",
         "x": {
          "bdata": "AAAAAAAAAADkyEPeG/SUP+TIQ94b9KQ/Vq1lzSlurz/kyEPeG/S0Px671NUiMbo/Vq1lzSluvz/HT3timFXCP+TIQ94b9MQ/AUIMWp+Sxz8BQgxan5LHP/UQ1VCvf8g/6d+dR79syT/ermY+z1nKP9J9LzXfRss/xkz4K+8zzD+6G8Ei/yDNP67qiRkPDs4/orlSEB/7zj+WiBsHL+jPP5aIGwcv6M8/uvq6da9X0T8oMehnR7vSP5ZnFVrfHtQ/BJ5CTHeC1T9y1G8+D+bWP+EKnTCnSdg/T0HKIj+t2T+9d/cU1xDbPyyuJAdvdNw/LK4kB2903D8LIfJMxpbdP+uTv5Idud4/ygaN2HTb3z/VPC0P5n7gP0T2E7IREOE/tK/6VD2h4T8jaeH3aDLiP5MiyJqUw+I/A9yuPcBU4z8D3K49wFTjP31DEzlIy+M/96p3NNBB5D9xEtwvWLjkP+t5QCvgLuU/ZeGkJmil5T/gSAki8BvmP1qwbR14kuY/1BfSGAAJ5z9OfzYUiH/nP05/NhSIf+c/co6vg1jT5z+VnSjzKCfoP7msoWL5eug/3Lsa0snO6D8Ay5NBmiLpPyPaDLFqduk/R+mFIDvK6T9q+P6PCx7qP44HeP/bceo/",
          "dtype": "f8"
         },
         "y": {
          "bdata": "AIEPTkrFw7/wfSPYH5/fv6AJXZnMPPS/ymXkYkmKAcDVn3YfxmMJwD5+DmONrxDAf7R7l1CqFMDSfSJTp5EYwK56NNYWVRzAvfU+OL/kH8Cy9T44v+QfwKZrtJdD3R/AjfIjh9HGH8ByI9Qwa6EfwEwWJ6wVbR/AYt794NUpH8D6dp4htNcewKwKnpG6dh7ASmshaPQGHsAy+6kMb4gdwC+uqQxviB3AZyQO7gO1G8DFMdmDn18ZwE4s3FZ6ixbAoVrtbns9E8AQa2fIQ/sOwDpF1VqFtgbAvmybmL/o+78AOZitwmrmv4C2CU5KxcO/IC0PTkrFw78Y6s44t8PivwD4vdpg/fe/ko2KU41KBMBhJXfsl54MwOAI2xwgSxLARQbzJsH2FcBQXTxHLSgZwM5YdYQMjRvAGqxa10OCHMCGq1rXQ4IcwMKww5S4cxzAqQEc/8pKHMB2FuzEnhAcwBZUg6gE2BvAsicZ04LCG8CVPwkr1v8bwG2xxfJ4tRzAAdiVxY/ZHcBuqqsnpzwfwMaqqyenPB/AXedYkjtCH8CWxEM/GFIfwHpdprTUaR/A3k9dbRaGH8CZ1IMKLKMfwLDTo2OmvR/A6NXlA6rSH8D43rk6HuAfwLb1Pji/5B/A",
          "dtype": "f8"
         },
         "yaxis": "y"
        },
        {
         "legendgroup": "bands",
         "line": {
          "color": "purple"
         },
         "name": "bands",
         "showlegend": false,
         "type": "scatter",
         "x": {
          "bdata": "AAAAAAAAAADkyEPeG/SUP+TIQ94b9KQ/Vq1lzSlurz/kyEPeG/S0Px671NUiMbo/Vq1lzSluvz/HT3timFXCP+TIQ94b9MQ/AUIMWp+Sxz8BQgxan5LHP/UQ1VCvf8g/6d+dR79syT/ermY+z1nKP9J9LzXfRss/xkz4K+8zzD+6G8Ei/yDNP67qiRkPDs4/orlSEB/7zj+WiBsHL+jPP5aIGwcv6M8/uvq6da9X0T8oMehnR7vSP5ZnFVrfHtQ/BJ5CTHeC1T9y1G8+D+bWP+EKnTCnSdg/T0HKIj+t2T+9d/cU1xDbPyyuJAdvdNw/LK4kB2903D8LIfJMxpbdP+uTv5Idud4/ygaN2HTb3z/VPC0P5n7gP0T2E7IREOE/tK/6VD2h4T8jaeH3aDLiP5MiyJqUw+I/A9yuPcBU4z8D3K49wFTjP31DEzlIy+M/96p3NNBB5D9xEtwvWLjkP+t5QCvgLuU/ZeGkJmil5T/gSAki8BvmP1qwbR14kuY/1BfSGAAJ5z9OfzYUiH/nP05/NhSIf+c/co6vg1jT5z+VnSjzKCfoP7msoWL5eug/3Lsa0snO6D8Ay5NBmiLpPyPaDLFqduk/R+mFIDvK6T9q+P6PCx7qP44HeP/bceo/",
          "dtype": "f8"
         },
         "y": {
          "bdata": "ICDHO0XFw7+gum0NkIjXvxg07MGmqeq/nLf87rKT9b/uhehXrUX9v6P+/g2U8QHAQQctmBOXBMDQxirCVoMGwJmueBGirQfAAFkrMocRCMDbWCsyhxEIwFlw67fabwjAqQ5JKnd0CcCIy3y7VOsKwHN7zZ75nAzAhnCFQsdbDsAAnVg+ygIQwAmvpIylwBDAJ9gk33ZeEcC7x1KfVdYRwGK0Up9V1hHAyMQ4wOpHEsB04XvrEW8RwJa96twSRw/ASegqecFcCsDD7xHNEI0EwEL9DCVbjfy/kN6YGvVN8L8QRwu1l/HZvyC3wztFxcO/oPjCO0XFw7/AXKWKx3DMvwBu/UHSHdm/gF1x/5pe47/wvI8ceibqv8QBFHBhEvC/ZBlIZHp98r+UYXUzLT/0v4TPil3YTvW/qBXv+o+p9b+ADu/6j6n1v+RBIBVYfvm/CnXLUr4RAcCcoTOPcAgGwNkCL3AtwQrAwjnKK5KvDsDLcqd1kqoQwCYQm5rvLBHAvxCqCBXnEMAL6rVzHwoQwJ3ptXMfChDARD7zSJXiD8D051OTFFEPwFB+3EkPag7AkIpxwJo+DcDGP76EMucLwD8ul0evhQrAJtGMdZpHCcCtzUeAtWQIwOlYKzKHEQjA",
          "dtype": "f8"
         },
         "yaxis": "y"
        },
        {
         "legendgroup": "bands",
         "line": {
          "color": "purple"
         },
         "name": "bands",
         "showlegend": false,
         "type": "scatter",
         "x": {
          "bdata": "AAAAAAAAAADkyEPeG/SUP+TIQ94b9KQ/Vq1lzSlurz/kyEPeG/S0Px671NUiMbo/Vq1lzSluvz/HT3timFXCP+TIQ94b9MQ/AUIMWp+Sxz8BQgxan5LHP/UQ1VCvf8g/6d+dR79syT/ermY+z1nKP9J9LzXfRss/xkz4K+8zzD+6G8Ei/yDNP67qiRkPDs4/orlSEB/7zj+WiBsHL+jPP5aIGwcv6M8/uvq6da9X0T8oMehnR7vSP5ZnFVrfHtQ/BJ5CTHeC1T9y1G8+D+bWP+EKnTCnSdg/T0HKIj+t2T+9d/cU1xDbPyyuJAdvdNw/LK4kB2903D8LIfJMxpbdP+uTv5Idud4/ygaN2HTb3z/VPC0P5n7gP0T2E7IREOE/tK/6VD2h4T8jaeH3aDLiP5MiyJqUw+I/A9yuPcBU4z8D3K49wFTjP31DEzlIy+M/96p3NNBB5D9xEtwvWLjkP+t5QCvgLuU/ZeGkJmil5T/gSAki8BvmP1qwbR14kuY/1BfSGAAJ5z9OfzYUiH/nP05/NhSIf+c/co6vg1jT5z+VnSjzKCfoP7msoWL5eug/3Lsa0snO6D8Ay5NBmiLpPyPaDLFqduk/R+mFIDvK6T9q+P6PCx7qP44HeP/bceo/",
          "dtype": "f8"
         },
         "y": {
          "bdata": "gFG1O0XFw7+w+kJujojXvxgXTP+lqeq/YAAMkrKT9b/savH/rEX9v6mEqeST8QHApDe1cBOXBMBcFUWcVoMGwJSvxeyhrQfAOcO8EYcRCMArw7wRhxEIwI836eJqBgjAIh73yh/lB8CcleFFx60HwJNC93aWYAfAzfEX0Ob9BsB/5yRuIYYGwCDr27nP+QXAzIt1qppZBcCz1CYST6YEwD5+JxJPpgTAdlHxLjokAsBgjDf2O0j+vwi+Tjocu/e/BC0iI8k88b8Qi+QW8Afnv2A3CDP4ody/8CcLBcZw0b9gTrxF7EHHv8CcsjtFxcO/wOCzO0XFw79gwpSKx3DMv6D89EHSHdm/8FFt/5pe47/Y0osceibqvwQaEnBhEvC/aDxGZHp98r80jXMzLT/0v0gAiV3YTvW/4Ent+o+p9b/ENO36j6n1v0D5tpnhefa/zAJ7Sfbm+L+AAcPwYNn8v1C+X9cjCQHA0BkxMB8WBMAbnh3yHVgHwFduXOA+lArAT7STTeWRDcAYY7RgHwoQwP5itGAfChDA8ATNIpXiD8CQJ6ltFFEPwGWTliMPag7A/BE+mpo+DcCEq49eMucLwLZ4dyGvhQrAzG4NUJpHCcDE9LlbtWQIwD3DvBGHEQjA",
          "dtype": "f8"
         },
         "yaxis": "y"
        },
        {
         "legendgroup": "bands",
         "line": {
          "color": "purple"
         },
         "name": "bands",
         "showlegend": false,
         "type": "scatter",
         "x": {
          "bdata": "AAAAAAAAAADkyEPeG/SUP+TIQ94b9KQ/Vq1lzSlurz/kyEPeG/S0Px671NUiMbo/Vq1lzSluvz/HT3timFXCP+TIQ94b9MQ/AUIMWp+Sxz8BQgxan5LHP/UQ1VCvf8g/6d+dR79syT/ermY+z1nKP9J9LzXfRss/xkz4K+8zzD+6G8Ei/yDNP67qiRkPDs4/orlSEB/7zj+WiBsHL+jPP5aIGwcv6M8/uvq6da9X0T8oMehnR7vSP5ZnFVrfHtQ/BJ5CTHeC1T9y1G8+D+bWP+EKnTCnSdg/T0HKIj+t2T+9d/cU1xDbPyyuJAdvdNw/LK4kB2903D8LIfJMxpbdP+uTv5Idud4/ygaN2HTb3z/VPC0P5n7gP0T2E7IREOE/tK/6VD2h4T8jaeH3aDLiP5MiyJqUw+I/A9yuPcBU4z8D3K49wFTjP31DEzlIy+M/96p3NNBB5D9xEtwvWLjkP+t5QCvgLuU/ZeGkJmil5T/gSAki8BvmP1qwbR14kuY/1BfSGAAJ5z9OfzYUiH/nP05/NhSIf+c/co6vg1jT5z+VnSjzKCfoP7msoWL5eug/3Lsa0snO6D8Ay5NBmiLpPyPaDLFqduk/R+mFIDvK6T9q+P6PCx7qP44HeP/bceo/",
          "dtype": "f8"
         },
         "y": {
          "bdata": "5AAJ1YtCA0AoiHsSXToCQCzOLGaHQv8/2FsIWwXI+D+wuYJSr27yPxAIXDoaG+o/wO1OEPhD4j9QpzIW1e7bPxCu3rg3Uts/aGTGlXO14T8gZcaVc7XhPzBk3IO+6OE/ENiia2uC4j94S5osCYLjP1DwCsj55uQ/UGanECav5j9AZkHNDNnoPxDrOEygYus/gAiUItlI7j94mhohAMTwPxSsGyEAxPA/uH1i236U9j9Yr+77unr9P6zDOi08WwJAlBIwCmdwBUCABRD2WBYHQHCLLualGgdAgOupZuxBBUBcxP2UeMIDQHw0MdWLQgNAQM4O1YtCA0DQ7VuSMMQDQOCAwZ5PHgNAYD6QF32SAUBM1MFBVqn/P5Bg56hcbPw/BJrkHxK8+T84naPYeb/3PzCEyqDWiPY/OK3OuK4g9j+wzM64riD2P7TdAMagmvk/HjXncYZHAEB8u8/ggW8DQIiK5vuWDQZAeD5c3Bo7CEAkEPEcQJsJQLRvWCPlpgtAxIyukLk9DkBevqFQTHYQQNjbo1BMdhBAiAG/W23kDUC040NoBkoJQNhC7gaEwARA+ioqNXSAAEDg+VisElD5PyQp8I6vr/I/0CVYijHr6j/AswyschnkP6BkxpVzteE/",
          "dtype": "f8"
         },
         "yaxis": "y"
        },
        {
         "legendgroup": "bands",
         "line": {
          "color": "purple"
         },
         "name": "bands",
         "showlegend": false,
         "type": "scatter",
         "x": {
          "bdata": "AAAAAAAAAADkyEPeG/SUP+TIQ94b9KQ/Vq1lzSlurz/kyEPeG/S0Px671NUiMbo/Vq1lzSluvz/HT3timFXCP+TIQ94b9MQ/AUIMWp+Sxz8BQgxan5LHP/UQ1VCvf8g/6d+dR79syT/ermY+z1nKP9J9LzXfRss/xkz4K+8zzD+6G8Ei/yDNP67qiRkPDs4/orlSEB/7zj+WiBsHL+jPP5aIGwcv6M8/uvq6da9X0T8oMehnR7vSP5ZnFVrfHtQ/BJ5CTHeC1T9y1G8+D+bWP+EKnTCnSdg/T0HKIj+t2T+9d/cU1xDbPyyuJAdvdNw/LK4kB2903D8LIfJMxpbdP+uTv5Idud4/ygaN2HTb3z/VPC0P5n7gP0T2E7IREOE/tK/6VD2h4T8jaeH3aDLiP5MiyJqUw+I/A9yuPcBU4z8D3K49wFTjP31DEzlIy+M/96p3NNBB5D9xEtwvWLjkP+t5QCvgLuU/ZeGkJmil5T/gSAki8BvmP1qwbR14kuY/1BfSGAAJ5z9OfzYUiH/nP05/NhSIf+c/co6vg1jT5z+VnSjzKCfoP7msoWL5eug/3Lsa0snO6D8Ay5NBmiLpPyPaDLFqduk/R+mFIDvK6T9q+P6PCx7qP44HeP/bceo/",
          "dtype": "f8"
         },
         "y": {
          "bdata": "zIPmA4xCA0AkF/HMcn8FQCRVK81SzgpATMbHmRKXEEDg1sYWkTgLQHAoYECgigRAkEdJgg1h/T8Y82W9fgr0P4Dtsdf8buo/oKOnuXa14T/wo6e5drXhP1hqdQxU5uM/qM+NKaEg6j/gqKk7AM/xP8Qp6OEGx/c/pKURWA+n/j+0RglrrhoDQFDFXrP7JAdA1EHkbCdkC0D83Ct9v8sPQDgPLH2/yw9AuqFzsZWXFkBu6BGWe7MVQKZ+VyFbihJAfL1iOH2tD0CkONMrLzoLQHy3T6TDvwdA+ME2et45BkAk27/wjjQEQCjJ5gOMQgNAiIzmA4xCA0CETs/g6g0EQIx/jT3KDwZAvHgxY9lxCEB8BZRmjUoKQNCQHcBbBwtAlCXYm/fPCkDkf1sSkjQKQECGc2v6rAlA6FtWCrd5CUB8nVYKt3kJQIz8ODjSHQlA4M8lWh1VCEDYXxSfVK8HQIT319e2lwdAoLTXaemQCEDsL5sEhToLQHyMRux9GA5A4JEvXMVtEEAgHGAITXYQQDxIYAhNdhBACO0qoG7kDUDAqm6JB0oJQEAvvwGFwARAHh3wGHWAAEDEwJhPFFD5P2wjrgyxr/I/sFPHUjTr6j9INYxhdRnkP4ijp7l2teE/",
          "dtype": "f8"
         },
         "yaxis": "y"
        },
        {
         "legendgroup": "bands",
         "line": {
          "color": "purple"
         },
         "name": "bands",
         "showlegend": false,
         "type": "scatter",
         "x": {
          "bdata": "AAAAAAAAAADkyEPeG/SUP+TIQ94b9KQ/Vq1lzSlurz/kyEPeG/S0Px671NUiMbo/Vq1lzSluvz/HT3timFXCP+TIQ94b9MQ/AUIMWp+Sxz8BQgxan5LHP/UQ1VCvf8g/6d+dR79syT/ermY+z1nKP9J9LzXfRss/xkz4K+8zzD+6G8Ei/yDNP67qiRkPDs4/orlSEB/7zj+WiBsHL+jPP5aIGwcv6M8/uvq6da9X0T8oMehnR7vSP5ZnFVrfHtQ/BJ5CTHeC1T9y1G8+D+bWP+EKnTCnSdg/T0HKIj+t2T+9d/cU1xDbPyyuJAdvdNw/LK4kB2903D8LIfJMxpbdP+uTv5Idud4/ygaN2HTb3z/VPC0P5n7gP0T2E7IREOE/tK/6VD2h4T8jaeH3aDLiP5MiyJqUw+I/A9yuPcBU4z8D3K49wFTjP31DEzlIy+M/96p3NNBB5D9xEtwvWLjkP+t5QCvgLuU/ZeGkJmil5T/gSAki8BvmP1qwbR14kuY/1BfSGAAJ5z9OfzYUiH/nP05/NhSIf+c/co6vg1jT5z+VnSjzKCfoP7msoWL5eug/3Lsa0snO6D8Ay5NBmiLpPyPaDLFqduk/R+mFIDvK6T9q+P6PCx7qP44HeP/bceo/",
          "dtype": "f8"
         },
         "y": {
          "bdata": "gLzmA4xCA0AIxBTtcn8FQGwube1SzgpApLAbxwfEEEAYcWTpV3oUQM6C7hqUZBhAJjgFfrxxHECiA2MQckwgQEEVIqLGYyJA5k6mHvrpI0D3oXyGEOojQC1I1Z2pwyNAW5wQGb1rI0AgBsJiVMsiQBo1OWpCJiJARbaib0d0IUBzJZd9/L4gQNLZLZrRCSBAFjcxAHunHkAA6s1RNEMdQIBkJGeQQx1A5jm0VAJLGUB40uIaMAEXQKzGVFX16xNAkJuOPfwjEUAkceBUUY0NQPA7NjX4pAlA2M+QShCCBkAozchundcEQDCrDgSMQgNAYGfoA4xCA0DM+dTg6g0EQKzWjT3KDwZA+LAxY9lxCECwMZRmjUoKQJQPH8BbBwtAiEjYm/fPCkAw5lsSkjQKQIgJdGv6rAlAcOdWCrd5CUBQdVcKt3kJQLi/hCl9WgpA5Ka5v8hRDUByoOgB41sRQL6aPR1x/hRA0rxCeLgqGUCMG9JAgcoXQA4RT0B+axVATGX9nmmEE0Bqg1y2MGUTQJaYY7YwZRNAFF58pIIEFUBCD+6RnqMXQJCHiwGzcRpA8GwuyOdSHUBz2IrLFhwgQFqiZZVfhSFA6ZNbMCDKIkBJ+kNIVqcjQGQ+m+QO6iNA",
          "dtype": "f8"
         },
         "yaxis": "y"
        },
        {
         "legendgroup": "bands",
         "line": {
          "color": "purple"
         },
         "name": "bands",
         "showlegend": false,
         "type": "scatter",
         "x": {
          "bdata": "AAAAAAAAAADkyEPeG/SUP+TIQ94b9KQ/Vq1lzSlurz/kyEPeG/S0Px671NUiMbo/Vq1lzSluvz/HT3timFXCP+TIQ94b9MQ/AUIMWp+Sxz8BQgxan5LHP/UQ1VCvf8g/6d+dR79syT/ermY+z1nKP9J9LzXfRss/xkz4K+8zzD+6G8Ei/yDNP67qiRkPDs4/orlSEB/7zj+WiBsHL+jPP5aIGwcv6M8/uvq6da9X0T8oMehnR7vSP5ZnFVrfHtQ/BJ5CTHeC1T9y1G8+D+bWP+EKnTCnSdg/T0HKIj+t2T+9d/cU1xDbPyyuJAdvdNw/LK4kB2903D8LIfJMxpbdP+uTv5Idud4/ygaN2HTb3z/VPC0P5n7gP0T2E7IREOE/tK/6VD2h4T8jaeH3aDLiP5MiyJqUw+I/A9yuPcBU4z8D3K49wFTjP31DEzlIy+M/96p3NNBB5D9xEtwvWLjkP+t5QCvgLuU/ZeGkJmil5T/gSAki8BvmP1qwbR14kuY/1BfSGAAJ5z9OfzYUiH/nP05/NhSIf+c/co6vg1jT5z+VnSjzKCfoP7msoWL5eug/3Lsa0snO6D8Ay5NBmiLpPyPaDLFqduk/R+mFIDvK6T9q+P6PCx7qP44HeP/bceo/",
          "dtype": "f8"
         },
         "y": {
          "bdata": "QJVjxQi1CUDcxNKwAlEMQPg0PpHglhBAaLv/2AfEEEDCfj/4V3oUQN6A0CuUZBhAWiP/i7xxHECsvssdckwgQD6J0AvJYyJA2ND4nlrqI0CwYQrVP+sjQE3jB8Ut1iNAeS4LS8egI0BHp8/BVUMjQCQJERBp3iJA7GpIYi50IkBw74a8fdUhQAF24mvwRyFAtdX0NVxzIECsBhuxZYYfQLbL74k/eB9AsOgyX7SzG0AshPYl1UQaQNbIEloY+hdA9tnZJAiGFkD6GBND3QwWQKYmaPl/lhVA+GLLVGSxEkD0vIt9pDANQBSdc8UItQlAIERsxQi1CUB050E4/BgMQOhdaBJBSBFAeE53t1I0FUCcYkEHWSwZQABYMSaL6xxA4CyhOOnhHkDmyhAIh9QeQPoDXln+cx5ALnFUC3lMHkDwqboLeUweQP7Dp7VfxB5AxCmaupC2H0CaPJkujLkfQHAu0KzGWR1AZrFeLcdyGkAS/ETmVncZQGxdNANYMRdAuAu7hLQXFUD21PzPMGUTQIIV/M8wZRNAojRNM4MEFUD8yfRHn6MXQKq/S9GzcRpACEGb1ehSHUBWdR1SFxwgQB9MANNhhSFAsp83VEDKIkBxCXdz0qcjQIiisRxK6iNA",
          "dtype": "f8"
         },
         "yaxis": "y"
        }
       ],
       "layout": {
        "legend": {
         "itemsizing": "constant"
        },
        "template": {
         "data": {
          "bar": [
           {
            "error_x": {
             "color": "rgb(51,51,51)"
            },
            "error_y": {
             "color": "rgb(51,51,51)"
            },
            "marker": {
             "line": {
              "color": "rgb(237,237,237)",
              "width": 0.5
             },
             "pattern": {
              "fillmode": "overlay",
              "size": 10,
              "solidity": 0.2
             }
            },
            "type": "bar"
           }
          ],
          "barpolar": [
           {
            "marker": {
             "line": {
              "color": "rgb(237,237,237)",
              "width": 0.5
             },
             "pattern": {
              "fillmode": "overlay",
              "size": 10,
              "solidity": 0.2
             }
            },
            "type": "barpolar"
           }
          ],
          "carpet": [
           {
            "aaxis": {
             "endlinecolor": "rgb(51,51,51)",
             "gridcolor": "white",
             "linecolor": "white",
             "minorgridcolor": "white",
             "startlinecolor": "rgb(51,51,51)"
            },
            "baxis": {
             "endlinecolor": "rgb(51,51,51)",
             "gridcolor": "white",
             "linecolor": "white",
             "minorgridcolor": "white",
             "startlinecolor": "rgb(51,51,51)"
            },
            "type": "carpet"
           }
          ],
          "choropleth": [
           {
            "colorbar": {
             "outlinewidth": 0,
             "tickcolor": "rgb(237,237,237)",
             "ticklen": 6,
             "ticks": "inside"
            },
            "type": "choropleth"
           }
          ],
          "contour": [
           {
            "colorbar": {
             "outlinewidth": 0,
             "tickcolor": "rgb(237,237,237)",
             "ticklen": 6,
             "ticks": "inside"
            },
            "colorscale": [
             [
              0,
              "#3E70EA"
             ],
             [
              0.5,
              "#424242"
             ],
             [
              1,
              "#A82C35"
             ]
            ],
            "type": "contour"
           }
          ],
          "contourcarpet": [
           {
            "colorbar": {
             "outlinewidth": 0,
             "tickcolor": "rgb(237,237,237)",
             "ticklen": 6,
             "ticks": "inside"
            },
            "type": "contourcarpet"
           }
          ],
          "heatmap": [
           {
            "colorbar": {
             "outlinewidth": 0,
             "tickcolor": "rgb(237,237,237)",
             "ticklen": 6,
             "ticks": "inside"
            },
            "colorscale": [
             [
              0,
              "rgb(20,44,66)"
             ],
             [
              1,
              "rgb(90,179,244)"
             ]
            ],
            "type": "heatmap"
           }
          ],
          "histogram": [
           {
            "marker": {
             "pattern": {
              "fillmode": "overlay",
              "size": 10,
              "solidity": 0.2
             }
            },
            "type": "histogram"
           }
          ],
          "histogram2d": [
           {
            "colorbar": {
             "outlinewidth": 0,
             "tickcolor": "rgb(237,237,237)",
             "ticklen": 6,
             "ticks": "inside"
            },
            "colorscale": [
             [
              0,
              "rgb(20,44,66)"
             ],
             [
              1,
              "rgb(90,179,244)"
             ]
            ],
            "type": "histogram2d"
           }
          ],
          "histogram2dcontour": [
           {
            "colorbar": {
             "outlinewidth": 0,
             "tickcolor": "rgb(237,237,237)",
             "ticklen": 6,
             "ticks": "inside"
            },
            "colorscale": [
             [
              0,
              "rgb(20,44,66)"
             ],
             [
              1,
              "rgb(90,179,244)"
             ]
            ],
            "type": "histogram2dcontour"
           }
          ],
          "mesh3d": [
           {
            "colorbar": {
             "outlinewidth": 0,
             "tickcolor": "rgb(237,237,237)",
             "ticklen": 6,
             "ticks": "inside"
            },
            "type": "mesh3d"
           }
          ],
          "parcoords": [
           {
            "line": {
             "colorbar": {
              "outlinewidth": 0,
              "tickcolor": "rgb(237,237,237)",
              "ticklen": 6,
              "ticks": "inside"
             }
            },
            "type": "parcoords"
           }
          ],
          "pie": [
           {
            "automargin": true,
            "type": "pie"
           }
          ],
          "scatter": [
           {
            "fillpattern": {
             "fillmode": "overlay",
             "size": 10,
             "solidity": 0.2
            },
            "type": "scatter"
           }
          ],
          "scatter3d": [
           {
            "line": {
             "colorbar": {
              "outlinewidth": 0,
              "tickcolor": "rgb(237,237,237)",
              "ticklen": 6,
              "ticks": "inside"
             }
            },
            "marker": {
             "colorbar": {
              "outlinewidth": 0,
              "tickcolor": "rgb(237,237,237)",
              "ticklen": 6,
              "ticks": "inside"
             }
            },
            "type": "scatter3d"
           }
          ],
          "scattercarpet": [
           {
            "marker": {
             "colorbar": {
              "outlinewidth": 0,
              "tickcolor": "rgb(237,237,237)",
              "ticklen": 6,
              "ticks": "inside"
             }
            },
            "type": "scattercarpet"
           }
          ],
          "scattergeo": [
           {
            "marker": {
             "colorbar": {
              "outlinewidth": 0,
              "tickcolor": "rgb(237,237,237)",
              "ticklen": 6,
              "ticks": "inside"
             }
            },
            "type": "scattergeo"
           }
          ],
          "scattergl": [
           {
            "marker": {
             "colorbar": {
              "outlinewidth": 0,
              "tickcolor": "rgb(237,237,237)",
              "ticklen": 6,
              "ticks": "inside"
             }
            },
            "type": "scattergl"
           }
          ],
          "scattermap": [
           {
            "marker": {
             "colorbar": {
              "outlinewidth": 0,
              "tickcolor": "rgb(237,237,237)",
              "ticklen": 6,
              "ticks": "inside"
             }
            },
            "type": "scattermap"
           }
          ],
          "scattermapbox": [
           {
            "marker": {
             "colorbar": {
              "outlinewidth": 0,
              "tickcolor": "rgb(237,237,237)",
              "ticklen": 6,
              "ticks": "inside"
             }
            },
            "type": "scattermapbox"
           }
          ],
          "scatterpolar": [
           {
            "marker": {
             "colorbar": {
              "outlinewidth": 0,
              "tickcolor": "rgb(237,237,237)",
              "ticklen": 6,
              "ticks": "inside"
             }
            },
            "type": "scatterpolar"
           }
          ],
          "scatterpolargl": [
           {
            "marker": {
             "colorbar": {
              "outlinewidth": 0,
              "tickcolor": "rgb(237,237,237)",
              "ticklen": 6,
              "ticks": "inside"
             }
            },
            "type": "scatterpolargl"
           }
          ],
          "scatterternary": [
           {
            "marker": {
             "colorbar": {
              "outlinewidth": 0,
              "tickcolor": "rgb(237,237,237)",
              "ticklen": 6,
              "ticks": "inside"
             }
            },
            "type": "scatterternary"
           }
          ],
          "surface": [
           {
            "colorbar": {
             "outlinewidth": 0,
             "tickcolor": "rgb(237,237,237)",
             "ticklen": 6,
             "ticks": "inside"
            },
            "colorscale": [
             [
              0,
              "rgb(20,44,66)"
             ],
             [
              1,
              "rgb(90,179,244)"
             ]
            ],
            "type": "surface"
           }
          ],
          "table": [
           {
            "cells": {
             "fill": {
              "color": "rgb(237,237,237)"
             },
             "line": {
              "color": "white"
             }
            },
            "header": {
             "fill": {
              "color": "rgb(217,217,217)"
             },
             "line": {
              "color": "white"
             }
            },
            "type": "table"
           }
          ]
         },
         "layout": {
          "annotationdefaults": {
           "arrowhead": 0,
           "arrowwidth": 1
          },
          "autotypenumbers": "strict",
          "coloraxis": {
           "colorbar": {
            "outlinewidth": 0,
            "tickcolor": "rgb(237,237,237)",
            "ticklen": 6,
            "ticks": "inside"
           }
          },
          "colorscale": {
           "sequential": [
            [
             0,
             "rgb(20,44,66)"
            ],
            [
             1,
             "rgb(90,179,244)"
            ]
           ],
           "sequentialminus": [
            [
             0,
             "rgb(20,44,66)"
            ],
            [
             1,
             "rgb(90,179,244)"
            ]
           ]
          },
          "colorway": [
           "#8342A4",
           "#35CABF",
           "#3E70EA",
           "#A82C35",
           "#424242",
           "#202429",
           "#89AD01"
          ],
          "font": {
           "color": "rgb(51,51,51)"
          },
          "geo": {
           "bgcolor": "white",
           "lakecolor": "white",
           "landcolor": "rgb(237,237,237)",
           "showlakes": true,
           "showland": true,
           "subunitcolor": "white"
          },
          "hoverlabel": {
           "align": "left"
          },
          "hovermode": "closest",
          "paper_bgcolor": "white",
          "plot_bgcolor": "rgb(237,237,237)",
          "polar": {
           "angularaxis": {
            "gridcolor": "white",
            "linecolor": "white",
            "showgrid": true,
            "tickcolor": "rgb(51,51,51)",
            "ticks": "outside"
           },
           "bgcolor": "rgb(237,237,237)",
           "radialaxis": {
            "gridcolor": "white",
            "linecolor": "white",
            "showgrid": true,
            "tickcolor": "rgb(51,51,51)",
            "ticks": "outside"
           }
          },
          "scene": {
           "xaxis": {
            "backgroundcolor": "rgb(237,237,237)",
            "gridcolor": "white",
            "gridwidth": 2,
            "linecolor": "white",
            "showbackground": true,
            "showgrid": true,
            "tickcolor": "rgb(51,51,51)",
            "ticks": "outside",
            "zerolinecolor": "white"
           },
           "yaxis": {
            "backgroundcolor": "rgb(237,237,237)",
            "gridcolor": "white",
            "gridwidth": 2,
            "linecolor": "white",
            "showbackground": true,
            "showgrid": true,
            "tickcolor": "rgb(51,51,51)",
            "ticks": "outside",
            "zerolinecolor": "white"
           },
           "zaxis": {
            "backgroundcolor": "rgb(237,237,237)",
            "gridcolor": "white",
            "gridwidth": 2,
            "linecolor": "white",
            "showbackground": true,
            "showgrid": true,
            "tickcolor": "rgb(51,51,51)",
            "ticks": "outside",
            "zerolinecolor": "white"
           }
          },
          "ternary": {
           "aaxis": {
            "gridcolor": "white",
            "linecolor": "white",
            "showgrid": true,
            "tickcolor": "rgb(51,51,51)",
            "ticks": "outside"
           },
           "baxis": {
            "gridcolor": "white",
            "linecolor": "white",
            "showgrid": true,
            "tickcolor": "rgb(51,51,51)",
            "ticks": "outside"
           },
           "bgcolor": "rgb(237,237,237)",
           "caxis": {
            "gridcolor": "white",
            "linecolor": "white",
            "showgrid": true,
            "tickcolor": "rgb(51,51,51)",
            "ticks": "outside"
           }
          },
          "xaxis": {
           "automargin": true,
           "exponentformat": "power",
           "gridcolor": "white",
           "linecolor": "white",
           "showexponent": "all",
           "showgrid": true,
           "tickcolor": "rgb(51,51,51)",
           "ticks": "outside",
           "title": {
            "standoff": 15
           },
           "zerolinecolor": "white"
          },
          "yaxis": {
           "automargin": true,
           "exponentformat": "power",
           "gridcolor": "white",
           "linecolor": "white",
           "showexponent": "all",
           "showgrid": true,
           "tickcolor": "rgb(51,51,51)",
           "ticks": "outside",
           "title": {
            "standoff": 15
           },
           "zerolinecolor": "white"
          }
         }
        },
        "xaxis": {
         "tickmode": "array",
         "ticktext": [
          "GAMMA",
          "X",
          "U|K",
          "GAMMA",
          "L",
          "W",
          "X"
         ],
         "tickvals": [
          0,
          0.1841620626151013,
          0.2492731842713211,
          0.44460654923998066,
          0.6040955738779988,
          0.7343178171904385,
          0.8263988484979892
         ]
        },
        "yaxis": {
         "title": {
          "text": "Energy (eV)"
         }
        }
       }
      }
     },
     "metadata": {},
     "output_type": "display_data"
    }
   ],
   "source": [
    "#  py4vasp - 绘制PBE能带结构 (尝试使用KPOINTS_OPT)\n",
    "print(\"\\n--- 1.2.2.4: py4vasp - 绘制PBE能带结构 (尝试使用KPOINTS_OPT) ---\")\n",
    "my_calc = py4vasp.Calculation.from_path(\"./e01_Si-G0W0/\")\n",
    "\n",
    "my_calc.band.plot(\"kpoints_opt\")\n"
   ]
  },
  {
   "cell_type": "code",
   "execution_count": null,
   "id": "1ce69ff3",
   "metadata": {},
   "outputs": [
    {
     "name": "stdout",
     "output_type": "stream",
     "text": [
      "\n",
      "--- 1.3.2.1: py4vasp - 绘制静电介电函数 (IPA) ---\n"
     ]
    },
    {
     "data": {
      "application/vnd.plotly.v1+json": {
       "config": {
        "plotlyServerURL": "https://plot.ly"
       },
       "data": [
        {
         "legendgroup": "Dielectric function (real, IPA)",
         "line": {
          "color": "purple"
         },
         "name": "Dielectric function (real, IPA)",
         "showlegend": true,
         "type": "scatter",
         "x": {
          "bdata": "AAAAAAAAAABpAG+BBMXbP0dy+Q/pt+s/CyQofoy59D+jkjoBTYT7P5YhjnVxGwFA8kHPZtVnBEAwTKYKRqUHQPjCZKpg1ApA2/l+arz0DUDBOSNKe4MQQKAaL90kBhJAbHh6pSyDE0Akl/+QfvsUQOOlm8QgcBZAw9MrZRniF0BQ/Bhz11IZQME5I0p7wxpA2T15WKg1HEAm5IOezaodQIbJVMGoJB9AbcX+sntSIEC7uI0G8BYhQFTjpZvE4CFAcF8HzhmxIkBEaW/whYkjQLN78rBQayRAuECC4sdYJUDByqFFtlMmQAKaCBueXidAI9v5fmp8KEBwXwfOGbEpQDj4wmSqACtA/7J78rBwLEBI4XoUrgcuQDvfT42Xzi9ADi2yne/nMECwcmiR7QwyQOQUHcnlXzNAzH9Iv33tNEBI4XoUrsc2QEdy+Q/pBzlAo5I6AU3UO0C62or9ZWc/QOPHmLuWEEJABaOSOgFVRUCX/5B++yJKQMdLN4lB8FBADwu1pnkvWEAPnDOitEVlQA==",
          "dtype": "f8"
         },
         "y": {
          "bdata": "HcnlP6S/LUAy5q4l5CMuQGx4eqUsYy9AdEaU9gbfMED+1HjpJuEyQDLmriXkAzZAhA1Pr5RlOEDPZtXnaos0QAkbnl4pezBA7Q2+MJnqGEDeAgmKH0MgwBdIUPwY8yXA9GxWfa42IcBxPQrXozAYwNV46SYxiA7AgLdAguLHBcB56SYxCCwMwAYSFD/GXBTAmnecoiO5FcDi6ZWyDLEUwHicoiO5/BLA1CtlGeIYEMAjSnuDL8wJwOJYF7fRgAXAcM6I0t7gAsD4U+Olm0QAwHKKjuTyH/2/yAc9m1Wf+r+fzarP1Vb3v8GopE5AE/O/kzoBTYQN7b8UP8bctYTmv6MBvAUSFOO/Dk+vlGWI378E54wo7Q3Wv13+Q/rt68i/2ht8YTJVoL+b5h2n6Ei+P0GC4seYu84/1QloImx41j/dtYR80LPdP2WqYFRSJ+I/JJf/kH775D8KaCJseHrnP5ayDHGsi+k/+8vuycNC6z/J5T+k377sP+JYF7fRAO4/UwWjkjoB7z9UUiegibDvPw==",
          "dtype": "f8"
         },
         "yaxis": "y"
        },
        {
         "legendgroup": "Dielectric function (imaginary, IPA)",
         "line": {
          "color": "cyan"
         },
         "name": "Dielectric function (imaginary, IPA)",
         "showlegend": true,
         "type": "scatter",
         "x": {
          "bdata": "AAAAAAAAAABpAG+BBMXbP0dy+Q/pt+s/CyQofoy59D+jkjoBTYT7P5YhjnVxGwFA8kHPZtVnBEAwTKYKRqUHQPjCZKpg1ApA2/l+arz0DUDBOSNKe4MQQKAaL90kBhJAbHh6pSyDE0Akl/+QfvsUQOOlm8QgcBZAw9MrZRniF0BQ/Bhz11IZQME5I0p7wxpA2T15WKg1HEAm5IOezaodQIbJVMGoJB9AbcX+sntSIEC7uI0G8BYhQFTjpZvE4CFAcF8HzhmxIkBEaW/whYkjQLN78rBQayRAuECC4sdYJUDByqFFtlMmQAKaCBueXidAI9v5fmp8KEBwXwfOGbEpQDj4wmSqACtA/7J78rBwLEBI4XoUrgcuQDvfT42Xzi9ADi2yne/nMECwcmiR7QwyQOQUHcnlXzNAzH9Iv33tNEBI4XoUrsc2QEdy+Q/pBzlAo5I6AU3UO0C62or9ZWc/QOPHmLuWEEJABaOSOgFVRUCX/5B++yJKQMdLN4lB8FBADwu1pnkvWEAPnDOitEVlQA==",
          "dtype": "f8"
         },
         "y": {
          "bdata": "AAAAAAAAAACpE9BE2PDUP1ioNc07Tuc/9dvXgXNG9T9YyjLEsa4DQNzXgXNGFBVAhA1Pr5QlKECEDU+vlFU0QD55WKg1rThAhjjWxW1MQEDWVuwvu3c6QFD8GHPXMi9AaJHtfD+1I0AFo5I6AU0cQEGC4seYuxlA4XoUrkchHEDzH9JvX8cfQGuad5yi4xtAsp3vp8YLFUAnMQisHNoPQP8h/fZ14AZA/Bhz1xLy/z9rmnecoiP5P1pkO99Pjfc/4lgXt9EA9T/lYaHWNO/yP0p7gy9MpvE/ufyH9NvX7T9JnYAmwobnP+SDns2qz+E/gEi/fR043z8Spb3BFybfP3lYqDXNO94/WmQ730+N1z9JLv8h/fbRPwBvgQTFj8k//Bhz1xLywT/7y+7Jw0K9P6abxCCwcrg/BcWPMXctsT+Zu5aQD3qmPzvfT42XbqI/T6+UZYhjnT8tQxzr4jaaPzAqqRPQRJg/whcmUwWjkj+6SQwCK4eGP26jAbwFEnQ/YTJVMCqpMz8AAAAAAAAAAA==",
          "dtype": "f8"
         },
         "yaxis": "y"
        },
        {
         "legendgroup": "Dielectric function (real, RPA)",
         "line": {
          "color": "blue"
         },
         "name": "Dielectric function (real, RPA)",
         "showlegend": true,
         "type": "scatter",
         "x": {
          "bdata": "AAAAAAAAAABpAG+BBMXbP0dy+Q/pt+s/CyQofoy59D+jkjoBTYT7P5YhjnVxGwFA8kHPZtVnBEAwTKYKRqUHQPjCZKpg1ApA2/l+arz0DUDBOSNKe4MQQKAaL90kBhJAbHh6pSyDE0Akl/+QfvsUQOOlm8QgcBZAw9MrZRniF0BQ/Bhz11IZQME5I0p7wxpA2T15WKg1HEAm5IOezaodQIbJVMGoJB9AbcX+sntSIEC7uI0G8BYhQFTjpZvE4CFAcF8HzhmxIkBEaW/whYkjQLN78rBQayRAuECC4sdYJUDByqFFtlMmQAKaCBueXidAI9v5fmp8KEBwXwfOGbEpQDj4wmSqACtA/7J78rBwLEBI4XoUrgcuQDvfT42Xzi9ADi2yne/nMECwcmiR7QwyQOQUHcnlXzNAzH9Iv33tNEBI4XoUrsc2QEdy+Q/pBzlAo5I6AU3UO0C62or9ZWc/QOPHmLuWEEJABaOSOgFVRUCX/5B++yJKQMdLN4lB8FBADwu1pnkvWEAPnDOitEVlQA==",
          "dtype": "f8"
         },
         "y": {
          "bdata": "PZtVn6vtKkC+wRcmU0UrQHh6pSxDXCxAmEwVjEpqLkD35GGh1vQwQHQkl/+QrjNAJuSDns3KNUApyxDHumgyQE7RkVz+Yy1AjgbwFkiQIEDwp8ZLN4kUwMPTK2UZQiPANV66SQxCH8CX/5B++zoWwAfwFkhQfAvAJQaBlUMLAcCNl24Sg0AAwOtztRX7SwrAM8SxLm6jEMAOLbKd72cRwP5l9+RhYRHAvp8aL92kDsBCz2bV52oIwBzr4jYawAPAcayL22gAAcDl0CLb+X78v7aEfNCzWfi/YqHWNO849r+gibDh6ZX0v+QUHcnlP/G/YOXQItv56L+ppE5AE2Hhv1tCPujZrNq/jnVxGw3g1b8Fo5I6AU3Mv6HWNO84Rbe/6Gor9pfdoz9KDAIrhxbBP+7rwDkjSss/BcWPMXct1T+TqYJRSZ3cP/mgZ7Pqc+E/ZDvfT42X5D+2hHzQs1nnP15LyAc9m+k/hxbZzvdT6z/njCjtDb7sP5ZDi2zn++0/rfpcbcX+7j9UUiegibDvPw==",
          "dtype": "f8"
         },
         "yaxis": "y"
        },
        {
         "legendgroup": "Dielectric function (imaginary, RPA)",
         "line": {
          "color": "red"
         },
         "name": "Dielectric function (imaginary, RPA)",
         "showlegend": true,
         "type": "scatter",
         "x": {
          "bdata": "AAAAAAAAAABpAG+BBMXbP0dy+Q/pt+s/CyQofoy59D+jkjoBTYT7P5YhjnVxGwFA8kHPZtVnBEAwTKYKRqUHQPjCZKpg1ApA2/l+arz0DUDBOSNKe4MQQKAaL90kBhJAbHh6pSyDE0Akl/+QfvsUQOOlm8QgcBZAw9MrZRniF0BQ/Bhz11IZQME5I0p7wxpA2T15WKg1HEAm5IOezaodQIbJVMGoJB9AbcX+sntSIEC7uI0G8BYhQFTjpZvE4CFAcF8HzhmxIkBEaW/whYkjQLN78rBQayRAuECC4sdYJUDByqFFtlMmQAKaCBueXidAI9v5fmp8KEBwXwfOGbEpQDj4wmSqACtA/7J78rBwLEBI4XoUrgcuQDvfT42Xzi9ADi2yne/nMECwcmiR7QwyQOQUHcnlXzNAzH9Iv33tNEBI4XoUrsc2QEdy+Q/pBzlAo5I6AU3UO0C62or9ZWc/QOPHmLuWEEJABaOSOgFVRUCX/5B++yJKQMdLN4lB8FBADwu1pnkvWEAPnDOitEVlQA==",
          "dtype": "f8"
         },
         "y": {
          "bdata": "AAAAAAAAAIBfmEwVjErSP7x0kxgEVuQ/nKIjufyH8j9/arx0kxgBQMuhRbbzPRJAoyO5/IfUJEAv3SQGgbUxQJLLf0i/jTRAOdbFbTSwO0BZF7fRAE45QBWMSuoEtC5A78nDQq3pIkA8TtGRXD4aQNqs+lxthRZA+zpwzohSF0CqglFJnQAbQJayDHGsSxtAZohjXdzGFkDHKTqSyz8SQN9PjZduEgtAysNCrWleAkAijnVxGw37P4ofY+5aQvg/IR/0bFZ99T9DHOviNhrzP1XBqKROQPI/klz+Q/rt8D/TTWIQWDnsP9jw9EpZhuQ/46WbxCCw4D+I9NvXgXPgP2uad5yiI+E/ETY8vVKW3T+iRbbz/dTYP3icoiO5/NM/3+ALk6mC0T+h1jTvOEXPPx3J5T+k38Y/T6+UZYhjvT/TTWIQWDm0P8xdS8gHPas/pHA9CtejoD9j7lpCPuiZPzAqqRPQRJg/Gy/dJAaBlT9TliGOdXGLP+0NvjCZKng/YTJVMCqpMz8AAAAAAAAAAA==",
          "dtype": "f8"
         },
         "yaxis": "y"
        }
       ],
       "layout": {
        "legend": {
         "itemsizing": "constant"
        },
        "template": {
         "data": {
          "bar": [
           {
            "error_x": {
             "color": "rgb(51,51,51)"
            },
            "error_y": {
             "color": "rgb(51,51,51)"
            },
            "marker": {
             "line": {
              "color": "rgb(237,237,237)",
              "width": 0.5
             },
             "pattern": {
              "fillmode": "overlay",
              "size": 10,
              "solidity": 0.2
             }
            },
            "type": "bar"
           }
          ],
          "barpolar": [
           {
            "marker": {
             "line": {
              "color": "rgb(237,237,237)",
              "width": 0.5
             },
             "pattern": {
              "fillmode": "overlay",
              "size": 10,
              "solidity": 0.2
             }
            },
            "type": "barpolar"
           }
          ],
          "carpet": [
           {
            "aaxis": {
             "endlinecolor": "rgb(51,51,51)",
             "gridcolor": "white",
             "linecolor": "white",
             "minorgridcolor": "white",
             "startlinecolor": "rgb(51,51,51)"
            },
            "baxis": {
             "endlinecolor": "rgb(51,51,51)",
             "gridcolor": "white",
             "linecolor": "white",
             "minorgridcolor": "white",
             "startlinecolor": "rgb(51,51,51)"
            },
            "type": "carpet"
           }
          ],
          "choropleth": [
           {
            "colorbar": {
             "outlinewidth": 0,
             "tickcolor": "rgb(237,237,237)",
             "ticklen": 6,
             "ticks": "inside"
            },
            "type": "choropleth"
           }
          ],
          "contour": [
           {
            "colorbar": {
             "outlinewidth": 0,
             "tickcolor": "rgb(237,237,237)",
             "ticklen": 6,
             "ticks": "inside"
            },
            "colorscale": [
             [
              0,
              "#3E70EA"
             ],
             [
              0.5,
              "#424242"
             ],
             [
              1,
              "#A82C35"
             ]
            ],
            "type": "contour"
           }
          ],
          "contourcarpet": [
           {
            "colorbar": {
             "outlinewidth": 0,
             "tickcolor": "rgb(237,237,237)",
             "ticklen": 6,
             "ticks": "inside"
            },
            "type": "contourcarpet"
           }
          ],
          "heatmap": [
           {
            "colorbar": {
             "outlinewidth": 0,
             "tickcolor": "rgb(237,237,237)",
             "ticklen": 6,
             "ticks": "inside"
            },
            "colorscale": [
             [
              0,
              "rgb(20,44,66)"
             ],
             [
              1,
              "rgb(90,179,244)"
             ]
            ],
            "type": "heatmap"
           }
          ],
          "histogram": [
           {
            "marker": {
             "pattern": {
              "fillmode": "overlay",
              "size": 10,
              "solidity": 0.2
             }
            },
            "type": "histogram"
           }
          ],
          "histogram2d": [
           {
            "colorbar": {
             "outlinewidth": 0,
             "tickcolor": "rgb(237,237,237)",
             "ticklen": 6,
             "ticks": "inside"
            },
            "colorscale": [
             [
              0,
              "rgb(20,44,66)"
             ],
             [
              1,
              "rgb(90,179,244)"
             ]
            ],
            "type": "histogram2d"
           }
          ],
          "histogram2dcontour": [
           {
            "colorbar": {
             "outlinewidth": 0,
             "tickcolor": "rgb(237,237,237)",
             "ticklen": 6,
             "ticks": "inside"
            },
            "colorscale": [
             [
              0,
              "rgb(20,44,66)"
             ],
             [
              1,
              "rgb(90,179,244)"
             ]
            ],
            "type": "histogram2dcontour"
           }
          ],
          "mesh3d": [
           {
            "colorbar": {
             "outlinewidth": 0,
             "tickcolor": "rgb(237,237,237)",
             "ticklen": 6,
             "ticks": "inside"
            },
            "type": "mesh3d"
           }
          ],
          "parcoords": [
           {
            "line": {
             "colorbar": {
              "outlinewidth": 0,
              "tickcolor": "rgb(237,237,237)",
              "ticklen": 6,
              "ticks": "inside"
             }
            },
            "type": "parcoords"
           }
          ],
          "pie": [
           {
            "automargin": true,
            "type": "pie"
           }
          ],
          "scatter": [
           {
            "fillpattern": {
             "fillmode": "overlay",
             "size": 10,
             "solidity": 0.2
            },
            "type": "scatter"
           }
          ],
          "scatter3d": [
           {
            "line": {
             "colorbar": {
              "outlinewidth": 0,
              "tickcolor": "rgb(237,237,237)",
              "ticklen": 6,
              "ticks": "inside"
             }
            },
            "marker": {
             "colorbar": {
              "outlinewidth": 0,
              "tickcolor": "rgb(237,237,237)",
              "ticklen": 6,
              "ticks": "inside"
             }
            },
            "type": "scatter3d"
           }
          ],
          "scattercarpet": [
           {
            "marker": {
             "colorbar": {
              "outlinewidth": 0,
              "tickcolor": "rgb(237,237,237)",
              "ticklen": 6,
              "ticks": "inside"
             }
            },
            "type": "scattercarpet"
           }
          ],
          "scattergeo": [
           {
            "marker": {
             "colorbar": {
              "outlinewidth": 0,
              "tickcolor": "rgb(237,237,237)",
              "ticklen": 6,
              "ticks": "inside"
             }
            },
            "type": "scattergeo"
           }
          ],
          "scattergl": [
           {
            "marker": {
             "colorbar": {
              "outlinewidth": 0,
              "tickcolor": "rgb(237,237,237)",
              "ticklen": 6,
              "ticks": "inside"
             }
            },
            "type": "scattergl"
           }
          ],
          "scattermap": [
           {
            "marker": {
             "colorbar": {
              "outlinewidth": 0,
              "tickcolor": "rgb(237,237,237)",
              "ticklen": 6,
              "ticks": "inside"
             }
            },
            "type": "scattermap"
           }
          ],
          "scattermapbox": [
           {
            "marker": {
             "colorbar": {
              "outlinewidth": 0,
              "tickcolor": "rgb(237,237,237)",
              "ticklen": 6,
              "ticks": "inside"
             }
            },
            "type": "scattermapbox"
           }
          ],
          "scatterpolar": [
           {
            "marker": {
             "colorbar": {
              "outlinewidth": 0,
              "tickcolor": "rgb(237,237,237)",
              "ticklen": 6,
              "ticks": "inside"
             }
            },
            "type": "scatterpolar"
           }
          ],
          "scatterpolargl": [
           {
            "marker": {
             "colorbar": {
              "outlinewidth": 0,
              "tickcolor": "rgb(237,237,237)",
              "ticklen": 6,
              "ticks": "inside"
             }
            },
            "type": "scatterpolargl"
           }
          ],
          "scatterternary": [
           {
            "marker": {
             "colorbar": {
              "outlinewidth": 0,
              "tickcolor": "rgb(237,237,237)",
              "ticklen": 6,
              "ticks": "inside"
             }
            },
            "type": "scatterternary"
           }
          ],
          "surface": [
           {
            "colorbar": {
             "outlinewidth": 0,
             "tickcolor": "rgb(237,237,237)",
             "ticklen": 6,
             "ticks": "inside"
            },
            "colorscale": [
             [
              0,
              "rgb(20,44,66)"
             ],
             [
              1,
              "rgb(90,179,244)"
             ]
            ],
            "type": "surface"
           }
          ],
          "table": [
           {
            "cells": {
             "fill": {
              "color": "rgb(237,237,237)"
             },
             "line": {
              "color": "white"
             }
            },
            "header": {
             "fill": {
              "color": "rgb(217,217,217)"
             },
             "line": {
              "color": "white"
             }
            },
            "type": "table"
           }
          ]
         },
         "layout": {
          "annotationdefaults": {
           "arrowhead": 0,
           "arrowwidth": 1
          },
          "autotypenumbers": "strict",
          "coloraxis": {
           "colorbar": {
            "outlinewidth": 0,
            "tickcolor": "rgb(237,237,237)",
            "ticklen": 6,
            "ticks": "inside"
           }
          },
          "colorscale": {
           "sequential": [
            [
             0,
             "rgb(20,44,66)"
            ],
            [
             1,
             "rgb(90,179,244)"
            ]
           ],
           "sequentialminus": [
            [
             0,
             "rgb(20,44,66)"
            ],
            [
             1,
             "rgb(90,179,244)"
            ]
           ]
          },
          "colorway": [
           "#8342A4",
           "#35CABF",
           "#3E70EA",
           "#A82C35",
           "#424242",
           "#202429",
           "#89AD01"
          ],
          "font": {
           "color": "rgb(51,51,51)"
          },
          "geo": {
           "bgcolor": "white",
           "lakecolor": "white",
           "landcolor": "rgb(237,237,237)",
           "showlakes": true,
           "showland": true,
           "subunitcolor": "white"
          },
          "hoverlabel": {
           "align": "left"
          },
          "hovermode": "closest",
          "paper_bgcolor": "white",
          "plot_bgcolor": "rgb(237,237,237)",
          "polar": {
           "angularaxis": {
            "gridcolor": "white",
            "linecolor": "white",
            "showgrid": true,
            "tickcolor": "rgb(51,51,51)",
            "ticks": "outside"
           },
           "bgcolor": "rgb(237,237,237)",
           "radialaxis": {
            "gridcolor": "white",
            "linecolor": "white",
            "showgrid": true,
            "tickcolor": "rgb(51,51,51)",
            "ticks": "outside"
           }
          },
          "scene": {
           "xaxis": {
            "backgroundcolor": "rgb(237,237,237)",
            "gridcolor": "white",
            "gridwidth": 2,
            "linecolor": "white",
            "showbackground": true,
            "showgrid": true,
            "tickcolor": "rgb(51,51,51)",
            "ticks": "outside",
            "zerolinecolor": "white"
           },
           "yaxis": {
            "backgroundcolor": "rgb(237,237,237)",
            "gridcolor": "white",
            "gridwidth": 2,
            "linecolor": "white",
            "showbackground": true,
            "showgrid": true,
            "tickcolor": "rgb(51,51,51)",
            "ticks": "outside",
            "zerolinecolor": "white"
           },
           "zaxis": {
            "backgroundcolor": "rgb(237,237,237)",
            "gridcolor": "white",
            "gridwidth": 2,
            "linecolor": "white",
            "showbackground": true,
            "showgrid": true,
            "tickcolor": "rgb(51,51,51)",
            "ticks": "outside",
            "zerolinecolor": "white"
           }
          },
          "ternary": {
           "aaxis": {
            "gridcolor": "white",
            "linecolor": "white",
            "showgrid": true,
            "tickcolor": "rgb(51,51,51)",
            "ticks": "outside"
           },
           "baxis": {
            "gridcolor": "white",
            "linecolor": "white",
            "showgrid": true,
            "tickcolor": "rgb(51,51,51)",
            "ticks": "outside"
           },
           "bgcolor": "rgb(237,237,237)",
           "caxis": {
            "gridcolor": "white",
            "linecolor": "white",
            "showgrid": true,
            "tickcolor": "rgb(51,51,51)",
            "ticks": "outside"
           }
          },
          "xaxis": {
           "automargin": true,
           "exponentformat": "power",
           "gridcolor": "white",
           "linecolor": "white",
           "showexponent": "all",
           "showgrid": true,
           "tickcolor": "rgb(51,51,51)",
           "ticks": "outside",
           "title": {
            "standoff": 15
           },
           "zerolinecolor": "white"
          },
          "yaxis": {
           "automargin": true,
           "exponentformat": "power",
           "gridcolor": "white",
           "linecolor": "white",
           "showexponent": "all",
           "showgrid": true,
           "tickcolor": "rgb(51,51,51)",
           "ticks": "outside",
           "title": {
            "standoff": 15
           },
           "zerolinecolor": "white"
          }
         }
        },
        "title": {
         "text": "Dielectric function of Si"
        },
        "xaxis": {
         "title": {
          "text": "Frequency (eV)"
         }
        },
        "yaxis": {
         "title": {
          "text": "Dielectric function"
         }
        }
       }
      }
     },
     "metadata": {},
     "output_type": "display_data"
    }
   ],
   "source": [
    "# py4vasp - 绘制静电介电函数 (IPA，RPA)即独立粒子近似与随机相位近似\n",
    "print(\"\\n--- 1.3.2.1: py4vasp - 绘制静电介电函数 (IPA，RPA) ---\")\n",
    "from py4vasp import plot\n",
    "\n",
    "filename_ipa = \"./e01_Si-G0W0/single-shot/dielectric_function_IPA.dat\"\n",
    "# uncomment the following line to use the RPA dielectric function\n",
    "filename_rpa = \"./e01_Si-G0W0/single-shot/dielectric_function_RPA.dat\"\n",
    "\n",
    "# read the dielectric function from file\n",
    "w_ipa, eps_imag_ipa, eps_real_ipa = np.loadtxt(filename_ipa, unpack=True)\n",
    "w_rpa, eps_imag_rpa, eps_real_rpa = np.loadtxt(filename_rpa, unpack=True)\n",
    "\n",
    "# plot the dielectric function as a function of frequency\n",
    "# DFPT\n",
    "plot(\n",
    "    (w_ipa, eps_real_ipa, \"Dielectric function (real, IPA)\"),\n",
    "    (w_ipa, eps_imag_ipa, \"Dielectric function (imaginary, IPA)\"),\n",
    "    (w_rpa, eps_real_rpa, \"Dielectric function (real, RPA)\"),\n",
    "    (w_rpa, eps_imag_rpa, \"Dielectric function (imaginary, RPA)\"),\n",
    "    title = \"Dielectric function of Si\",\n",
    "    ylabel = \"Dielectric function\",\n",
    "    xlabel = \"Frequency (eV)\",\n",
    ") \n"
   ]
  },
  {
   "cell_type": "code",
   "execution_count": 28,
   "id": "c32c293e",
   "metadata": {},
   "outputs": [
    {
     "name": "stdout",
     "output_type": "stream",
     "text": [
      "\n",
      "--- 1.3.2.2: Pymatgen + Matplotlib - 绘制IPA介电函数 ---\n",
      "Pymatgen IPA介电函数图已保存到: ./e01_Si-G0W0/unoccupied-states/si_dielec_ipa_pymatgen.png\n"
     ]
    },
    {
     "data": {
      "image/png": "[encoded data removed]",
      "text/plain": [
       "<IPython.core.display.Image object>"
      ]
     },
     "metadata": {},
     "output_type": "display_data"
    }
   ],
   "source": [
    "#  Pymatgen + Matplotlib - 绘制IPA介电函数\n",
    "print(\"\\n--- 1.3.2.2: Pymatgen + Matplotlib - 绘制IPA介电函数 ---\")\n",
    "unoccupied_vasprun_path = os.path.join(path_e01_unoccupied, \"vasprun.xml\")\n",
    "dielec_ipa_pmg_path = os.path.join(path_e01_unoccupied, \"si_dielec_ipa_pymatgen.png\")\n",
    "\n",
    "if not os.path.exists(unoccupied_vasprun_path):\n",
    "    print(f\"错误: {unoccupied_vasprun_path} 未找到。\")\n",
    "else:\n",
    "    try:\n",
    "        run_optics_pmg = Vasprun(unoccupied_vasprun_path, parse_potcar_file=False)\n",
    "        \n",
    "        energy_pmg = run_optics_pmg.dielectric[0]\n",
    "        eps_real_pmg = run_optics_pmg.dielectric[1] # 对角元平均\n",
    "        eps_imag_pmg = run_optics_pmg.dielectric[2] # 对角元平均\n",
    "\n",
    "        plt.figure(figsize=(8, 5))\n",
    "        plt.plot(energy_pmg, eps_real_pmg, label=\"Real part - IPA\")\n",
    "        plt.plot(energy_pmg, eps_imag_pmg, label=\"Imaginary part - IPA\")\n",
    "        plt.xlabel(\"Energy (eV)\")\n",
    "        plt.ylabel(\"Dielectric Function $\\\\epsilon (\\\\omega)$\")\n",
    "        plt.title(\"Si Dielectric Function (IPA - Pymatgen)\")\n",
    "        plt.legend(loc='upper right')\n",
    "        plt.grid(True, linestyle='--', alpha=0.7)\n",
    "        if len(energy_pmg) > 0: plt.xlim(min(energy_pmg), max(energy_pmg)/1.5 if max(energy_pmg) > 0 else 10)\n",
    "        \n",
    "        plt.savefig(dielec_ipa_pmg_path, dpi=300)\n",
    "        plt.close() # 关闭图像，避免在notebook中重复显示\n",
    "        print(f\"Pymatgen IPA介电函数图已保存到: {dielec_ipa_pmg_path}\")\n",
    "        display(Image(filename=dielec_ipa_pmg_path))\n",
    "\n",
    "    except Exception as e:\n",
    "        print(f\"Pymatgen处理介电函数 ({unoccupied_vasprun_path}) 时出错: {e}\")\n"
   ]
  },
  {
   "cell_type": "code",
   "execution_count": 32,
   "id": "75116a3e",
   "metadata": {},
   "outputs": [
    {
     "name": "stdout",
     "output_type": "stream",
     "text": [
      "\n",
      "--- 1.4.2.1: py4vasp - G0W0准粒子能隙 ---\n",
      "G0W0 quasiparticle band gap (py4vasp, from ./e01_Si-G0W0/single-shot): 1.2139 eV\n"
     ]
    }
   ],
   "source": [
    "#  py4vasp - G0W0准粒子能隙\n",
    "print(\"\\n--- 1.4.2.1: py4vasp - G0W0准粒子能隙 ---\")\n",
    "g0w0_calc_py4vasp = py4vasp.Calculation.from_path(path_e01_g0w0_single_shot)\n",
    "q_gap_g0w0_py4vasp = gap_py4vasp(g0w0_calc_py4vasp) \n",
    "print(f\"G0W0 quasiparticle band gap (py4vasp, from {path_e01_g0w0_single_shot}): {q_gap_g0w0_py4vasp:.4f} eV\")"
   ]
  },
  {
   "cell_type": "code",
   "execution_count": 6,
   "id": "63ae7bda",
   "metadata": {},
   "outputs": [
    {
     "data": {
      "application/vnd.plotly.v1+json": {
       "config": {
        "plotlyServerURL": "https://plot.ly"
       },
       "data": [
        {
         "legendgroup": "ipa",
         "line": {
          "color": "purple"
         },
         "name": "ipa",
         "showlegend": true,
         "type": "scatter",
         "x": {
          "bdata": "AAAAAAAAAADKO0nKm8XbP/bqNy5OuOs/ZBOZb1m59D86ZcmDI4T7P+MqMz10GwFAu7hJp+FnBEAWRmNnW6UHQAir6wtI1ApAWph6ss30DUAmigdkcIMQQEPsKA8hBhJASly4/jSDE0BufQFli/sUQCn0uvsmcBZAos8LHiXiF0CdkaQKzVIZQIUBSZ9+wxpAl1mbLak1HEDPioGH1qodQK7fI8KsJB9AfWRhOnhSIECtO3cO7RYhQMSbXaHI4CFAsdgFhxWxIkDNG+XYhokjQEv9zOJUayRA890fCc1YJUB0YJHIsFMmQC+0PHGYXidAgVE8I2p8KEBE6o9NHbEpQNKhxQCmACtAsj6gvrJwLEBN2OGhsgcuQAD8qZaRzi9AItRHiOznMEDKzUMV6wwyQP1jQO7mXzNALwnKunvtNEDE/tuUq8c2QPmUDTroBzlAqqLxnEvUO0CjfZSyZGc/QGm3LOiXEEJA2Jodm/9URUC9bwbP+iJKQMWD7x9B8FBAKsppd3ovWECBvX3dtEVlQA==",
          "dtype": "f8"
         },
         "y": {
          "bdata": "6DQQK6e/LUAzsch25yMuQPMTJi8uYy9AEUA+ywffMECEjD5MJuEyQKjuiYPkAzZAm/4eqZVlOEDY5CV7aYs0QJcnFZ8oezBAyPr9nZTqGEBRZtk/HkMgwEHvwD0T8yXAh8uZWKw2IcAFx5kyoTAYwHVZXH87iA7A6yQ6r97HBcCkdD3LGiwMwBFimI7CXBTA/JNBtyy5FcDUBygQGbEUwO3H5HKs/BLAG1TV4doYEMAYxxOgRMwJwNsRFla4gAXAqJ7ME+jgAsALriXGhEQAwKcKOfUhIP2/q87WBW+f+r+Dh//m4Fb3v10QbvMZE/O/me0i0pMN7b/T7zNfC4Xmv9sp1yiqE+O/T0I2SMKH37+ADOn56g3Wv7NqH5V77Mi/QI1SO+NPoL/gt8i9Wka+P6R0isyxus4/6NN0WFd41j9AU0DgZLTdP4/OxsFJJ+I/udIZ8ZT75D8tSGEUcHrnP8CIuexpi+k/aFW7EnRC6z/zo+IjFb/sPyWs81wZAe4/+xdSKlwB7z8YQOm47rDvPw==",
          "dtype": "f8"
         },
         "yaxis": "y"
        },
        {
         "legendgroup": "rpa",
         "line": {
          "color": "cyan"
         },
         "name": "rpa",
         "showlegend": true,
         "type": "scatter",
         "x": {
          "bdata": "AAAAAAAAAADKO0nKm8XbP/bqNy5OuOs/ZBOZb1m59D86ZcmDI4T7P+MqMz10GwFAu7hJp+FnBEAWRmNnW6UHQAir6wtI1ApAWph6ss30DUAmigdkcIMQQEPsKA8hBhJASly4/jSDE0BufQFli/sUQCn0uvsmcBZAos8LHiXiF0CdkaQKzVIZQIUBSZ9+wxpAl1mbLak1HEDPioGH1qodQK7fI8KsJB9AfWRhOnhSIECtO3cO7RYhQMSbXaHI4CFAsdgFhxWxIkDNG+XYhokjQEv9zOJUayRA890fCc1YJUB0YJHIsFMmQC+0PHGYXidAgVE8I2p8KEBE6o9NHbEpQNKhxQCmACtAsj6gvrJwLEBN2OGhsgcuQAD8qZaRzi9AItRHiOznMEDKzUMV6wwyQP1jQO7mXzNALwnKunvtNEDE/tuUq8c2QPmUDTroBzlAqqLxnEvUO0CjfZSyZGc/QGm3LOiXEEJA2Jodm/9URUC9bwbP+iJKQMWD7x9B8FBAKsppd3ovWECBvX3dtEVlQA==",
          "dtype": "f8"
         },
         "y": {
          "bdata": "YI5Mn7DtKkBDmunlVUUrQGk9m1VHXCxAww0nrUpqLkALQ0Bi1/QwQGUDcLqPrjNAlOwgwsvKNUB3XWj9vGgyQGkrBNn8Yy1AbE1DTkmQIECl8rgmQokUwCwwSwUVQiPAAFnzLApCH8CT88SK+ToWwAdshLE2fAvAfYCbwE8LAcCalhP2b0AAwOX0OXUBTArA3V87HG+jEMB4Jdk/+2cRwGsyrzNeYRHANcH06+6kDsB4N6Kt72oIwCHZxHIUwAPANRfCs30AAcCvfyJh6n78vzCau5miWfi/edpje8k49r8jQ7PoEpb0v6AMsTjDP/G/VVGlXH356L9FfySQBmHhv+Bj5s0mrNq/E0vnNULf1b8nO3DR/U3Mv38D6VvEQre/uEdAxH7Zoz9Vxpyq7BfBP/xEEeaoS8s/qAI+MOQt1T9I4j8NJZ3cP2Fn3eApdOE/RFVN5PWX5D/HhJhQE1rnP8AXdjOIm+k/A6HWdFhU6z9viyK0xr3sP3hPU2H6++0/eHhpTd7+7j9NRqLSx7DvPw==",
          "dtype": "f8"
         },
         "yaxis": "y"
        }
       ],
       "layout": {
        "legend": {
         "itemsizing": "constant"
        },
        "template": {
         "data": {
          "bar": [
           {
            "error_x": {
             "color": "rgb(51,51,51)"
            },
            "error_y": {
             "color": "rgb(51,51,51)"
            },
            "marker": {
             "line": {
              "color": "rgb(237,237,237)",
              "width": 0.5
             },
             "pattern": {
              "fillmode": "overlay",
              "size": 10,
              "solidity": 0.2
             }
            },
            "type": "bar"
           }
          ],
          "barpolar": [
           {
            "marker": {
             "line": {
              "color": "rgb(237,237,237)",
              "width": 0.5
             },
             "pattern": {
              "fillmode": "overlay",
              "size": 10,
              "solidity": 0.2
             }
            },
            "type": "barpolar"
           }
          ],
          "carpet": [
           {
            "aaxis": {
             "endlinecolor": "rgb(51,51,51)",
             "gridcolor": "white",
             "linecolor": "white",
             "minorgridcolor": "white",
             "startlinecolor": "rgb(51,51,51)"
            },
            "baxis": {
             "endlinecolor": "rgb(51,51,51)",
             "gridcolor": "white",
             "linecolor": "white",
             "minorgridcolor": "white",
             "startlinecolor": "rgb(51,51,51)"
            },
            "type": "carpet"
           }
          ],
          "choropleth": [
           {
            "colorbar": {
             "outlinewidth": 0,
             "tickcolor": "rgb(237,237,237)",
             "ticklen": 6,
             "ticks": "inside"
            },
            "type": "choropleth"
           }
          ],
          "contour": [
           {
            "colorbar": {
             "outlinewidth": 0,
             "tickcolor": "rgb(237,237,237)",
             "ticklen": 6,
             "ticks": "inside"
            },
            "colorscale": [
             [
              0,
              "#3E70EA"
             ],
             [
              0.5,
              "#424242"
             ],
             [
              1,
              "#A82C35"
             ]
            ],
            "type": "contour"
           }
          ],
          "contourcarpet": [
           {
            "colorbar": {
             "outlinewidth": 0,
             "tickcolor": "rgb(237,237,237)",
             "ticklen": 6,
             "ticks": "inside"
            },
            "type": "contourcarpet"
           }
          ],
          "heatmap": [
           {
            "colorbar": {
             "outlinewidth": 0,
             "tickcolor": "rgb(237,237,237)",
             "ticklen": 6,
             "ticks": "inside"
            },
            "colorscale": [
             [
              0,
              "rgb(20,44,66)"
             ],
             [
              1,
              "rgb(90,179,244)"
             ]
            ],
            "type": "heatmap"
           }
          ],
          "histogram": [
           {
            "marker": {
             "pattern": {
              "fillmode": "overlay",
              "size": 10,
              "solidity": 0.2
             }
            },
            "type": "histogram"
           }
          ],
          "histogram2d": [
           {
            "colorbar": {
             "outlinewidth": 0,
             "tickcolor": "rgb(237,237,237)",
             "ticklen": 6,
             "ticks": "inside"
            },
            "colorscale": [
             [
              0,
              "rgb(20,44,66)"
             ],
             [
              1,
              "rgb(90,179,244)"
             ]
            ],
            "type": "histogram2d"
           }
          ],
          "histogram2dcontour": [
           {
            "colorbar": {
             "outlinewidth": 0,
             "tickcolor": "rgb(237,237,237)",
             "ticklen": 6,
             "ticks": "inside"
            },
            "colorscale": [
             [
              0,
              "rgb(20,44,66)"
             ],
             [
              1,
              "rgb(90,179,244)"
             ]
            ],
            "type": "histogram2dcontour"
           }
          ],
          "mesh3d": [
           {
            "colorbar": {
             "outlinewidth": 0,
             "tickcolor": "rgb(237,237,237)",
             "ticklen": 6,
             "ticks": "inside"
            },
            "type": "mesh3d"
           }
          ],
          "parcoords": [
           {
            "line": {
             "colorbar": {
              "outlinewidth": 0,
              "tickcolor": "rgb(237,237,237)",
              "ticklen": 6,
              "ticks": "inside"
             }
            },
            "type": "parcoords"
           }
          ],
          "pie": [
           {
            "automargin": true,
            "type": "pie"
           }
          ],
          "scatter": [
           {
            "fillpattern": {
             "fillmode": "overlay",
             "size": 10,
             "solidity": 0.2
            },
            "type": "scatter"
           }
          ],
          "scatter3d": [
           {
            "line": {
             "colorbar": {
              "outlinewidth": 0,
              "tickcolor": "rgb(237,237,237)",
              "ticklen": 6,
              "ticks": "inside"
             }
            },
            "marker": {
             "colorbar": {
              "outlinewidth": 0,
              "tickcolor": "rgb(237,237,237)",
              "ticklen": 6,
              "ticks": "inside"
             }
            },
            "type": "scatter3d"
           }
          ],
          "scattercarpet": [
           {
            "marker": {
             "colorbar": {
              "outlinewidth": 0,
              "tickcolor": "rgb(237,237,237)",
              "ticklen": 6,
              "ticks": "inside"
             }
            },
            "type": "scattercarpet"
           }
          ],
          "scattergeo": [
           {
            "marker": {
             "colorbar": {
              "outlinewidth": 0,
              "tickcolor": "rgb(237,237,237)",
              "ticklen": 6,
              "ticks": "inside"
             }
            },
            "type": "scattergeo"
           }
          ],
          "scattergl": [
           {
            "marker": {
             "colorbar": {
              "outlinewidth": 0,
              "tickcolor": "rgb(237,237,237)",
              "ticklen": 6,
              "ticks": "inside"
             }
            },
            "type": "scattergl"
           }
          ],
          "scattermap": [
           {
            "marker": {
             "colorbar": {
              "outlinewidth": 0,
              "tickcolor": "rgb(237,237,237)",
              "ticklen": 6,
              "ticks": "inside"
             }
            },
            "type": "scattermap"
           }
          ],
          "scattermapbox": [
           {
            "marker": {
             "colorbar": {
              "outlinewidth": 0,
              "tickcolor": "rgb(237,237,237)",
              "ticklen": 6,
              "ticks": "inside"
             }
            },
            "type": "scattermapbox"
           }
          ],
          "scatterpolar": [
           {
            "marker": {
             "colorbar": {
              "outlinewidth": 0,
              "tickcolor": "rgb(237,237,237)",
              "ticklen": 6,
              "ticks": "inside"
             }
            },
            "type": "scatterpolar"
           }
          ],
          "scatterpolargl": [
           {
            "marker": {
             "colorbar": {
              "outlinewidth": 0,
              "tickcolor": "rgb(237,237,237)",
              "ticklen": 6,
              "ticks": "inside"
             }
            },
            "type": "scatterpolargl"
           }
          ],
          "scatterternary": [
           {
            "marker": {
             "colorbar": {
              "outlinewidth": 0,
              "tickcolor": "rgb(237,237,237)",
              "ticklen": 6,
              "ticks": "inside"
             }
            },
            "type": "scatterternary"
           }
          ],
          "surface": [
           {
            "colorbar": {
             "outlinewidth": 0,
             "tickcolor": "rgb(237,237,237)",
             "ticklen": 6,
             "ticks": "inside"
            },
            "colorscale": [
             [
              0,
              "rgb(20,44,66)"
             ],
             [
              1,
              "rgb(90,179,244)"
             ]
            ],
            "type": "surface"
           }
          ],
          "table": [
           {
            "cells": {
             "fill": {
              "color": "rgb(237,237,237)"
             },
             "line": {
              "color": "white"
             }
            },
            "header": {
             "fill": {
              "color": "rgb(217,217,217)"
             },
             "line": {
              "color": "white"
             }
            },
            "type": "table"
           }
          ]
         },
         "layout": {
          "annotationdefaults": {
           "arrowhead": 0,
           "arrowwidth": 1
          },
          "autotypenumbers": "strict",
          "coloraxis": {
           "colorbar": {
            "outlinewidth": 0,
            "tickcolor": "rgb(237,237,237)",
            "ticklen": 6,
            "ticks": "inside"
           }
          },
          "colorscale": {
           "sequential": [
            [
             0,
             "rgb(20,44,66)"
            ],
            [
             1,
             "rgb(90,179,244)"
            ]
           ],
           "sequentialminus": [
            [
             0,
             "rgb(20,44,66)"
            ],
            [
             1,
             "rgb(90,179,244)"
            ]
           ]
          },
          "colorway": [
           "#8342A4",
           "#35CABF",
           "#3E70EA",
           "#A82C35",
           "#424242",
           "#202429",
           "#89AD01"
          ],
          "font": {
           "color": "rgb(51,51,51)"
          },
          "geo": {
           "bgcolor": "white",
           "lakecolor": "white",
           "landcolor": "rgb(237,237,237)",
           "showlakes": true,
           "showland": true,
           "subunitcolor": "white"
          },
          "hoverlabel": {
           "align": "left"
          },
          "hovermode": "closest",
          "paper_bgcolor": "white",
          "plot_bgcolor": "rgb(237,237,237)",
          "polar": {
           "angularaxis": {
            "gridcolor": "white",
            "linecolor": "white",
            "showgrid": true,
            "tickcolor": "rgb(51,51,51)",
            "ticks": "outside"
           },
           "bgcolor": "rgb(237,237,237)",
           "radialaxis": {
            "gridcolor": "white",
            "linecolor": "white",
            "showgrid": true,
            "tickcolor": "rgb(51,51,51)",
            "ticks": "outside"
           }
          },
          "scene": {
           "xaxis": {
            "backgroundcolor": "rgb(237,237,237)",
            "gridcolor": "white",
            "gridwidth": 2,
            "linecolor": "white",
            "showbackground": true,
            "showgrid": true,
            "tickcolor": "rgb(51,51,51)",
            "ticks": "outside",
            "zerolinecolor": "white"
           },
           "yaxis": {
            "backgroundcolor": "rgb(237,237,237)",
            "gridcolor": "white",
            "gridwidth": 2,
            "linecolor": "white",
            "showbackground": true,
            "showgrid": true,
            "tickcolor": "rgb(51,51,51)",
            "ticks": "outside",
            "zerolinecolor": "white"
           },
           "zaxis": {
            "backgroundcolor": "rgb(237,237,237)",
            "gridcolor": "white",
            "gridwidth": 2,
            "linecolor": "white",
            "showbackground": true,
            "showgrid": true,
            "tickcolor": "rgb(51,51,51)",
            "ticks": "outside",
            "zerolinecolor": "white"
           }
          },
          "ternary": {
           "aaxis": {
            "gridcolor": "white",
            "linecolor": "white",
            "showgrid": true,
            "tickcolor": "rgb(51,51,51)",
            "ticks": "outside"
           },
           "baxis": {
            "gridcolor": "white",
            "linecolor": "white",
            "showgrid": true,
            "tickcolor": "rgb(51,51,51)",
            "ticks": "outside"
           },
           "bgcolor": "rgb(237,237,237)",
           "caxis": {
            "gridcolor": "white",
            "linecolor": "white",
            "showgrid": true,
            "tickcolor": "rgb(51,51,51)",
            "ticks": "outside"
           }
          },
          "xaxis": {
           "automargin": true,
           "exponentformat": "power",
           "gridcolor": "white",
           "linecolor": "white",
           "showexponent": "all",
           "showgrid": true,
           "tickcolor": "rgb(51,51,51)",
           "ticks": "outside",
           "title": {
            "standoff": 15
           },
           "zerolinecolor": "white"
          },
          "yaxis": {
           "automargin": true,
           "exponentformat": "power",
           "gridcolor": "white",
           "linecolor": "white",
           "showexponent": "all",
           "showgrid": true,
           "tickcolor": "rgb(51,51,51)",
           "ticks": "outside",
           "title": {
            "standoff": 15
           },
           "zerolinecolor": "white"
          }
         }
        },
        "xaxis": {
         "title": {
          "text": "Energy (eV)"
         }
        },
        "yaxis": {
         "title": {
          "text": "dielectric function ϵ"
         }
        }
       }
      }
     },
     "metadata": {},
     "output_type": "display_data"
    }
   ],
   "source": [
    "from py4vasp import Calculation\n",
    "\n",
    "calc = Calculation.from_path(\"./e01_Si-G0W0/single-shot\")\n",
    "calc.dielectric_function.plot(\"Re(IPA, RPA)\")"
   ]
  },
  {
   "cell_type": "code",
   "execution_count": null,
   "id": "ce6a2da8",
   "metadata": {},
   "outputs": [
    {
     "name": "stdout",
     "output_type": "stream",
     "text": [
      "DFT E-fermi:  5.628076698968314\n"
     ]
    },
    {
     "data": {
      "application/vnd.plotly.v1+json": {
       "config": {
        "plotlyServerURL": "https://plot.ly"
       },
       "data": [
        {
         "legendgroup": "bands",
         "line": {
          "color": "purple"
         },
         "name": "bands",
         "showlegend": true,
         "type": "scatter",
         "x": {
          "bdata": "AAAAAAAAAADkyEPeG/SUP+TIQ94b9KQ/Vq1lzSlurz/kyEPeG/S0Px671NUiMbo/Vq1lzSluvz/HT3timFXCP+TIQ94b9MQ/AUIMWp+Sxz8BQgxan5LHP/UQ1VCvf8g/6d+dR79syT/ermY+z1nKP9J9LzXfRss/xkz4K+8zzD+6G8Ei/yDNP67qiRkPDs4/orlSEB/7zj+WiBsHL+jPP5aIGwcv6M8/uvq6da9X0T8oMehnR7vSP5ZnFVrfHtQ/BJ5CTHeC1T9y1G8+D+bWP+EKnTCnSdg/T0HKIj+t2T+9d/cU1xDbPyyuJAdvdNw/LK4kB2903D8LIfJMxpbdP+uTv5Idud4/ygaN2HTb3z/VPC0P5n7gP0T2E7IREOE/tK/6VD2h4T8jaeH3aDLiP5MiyJqUw+I/A9yuPcBU4z8D3K49wFTjP31DEzlIy+M/96p3NNBB5D9xEtwvWLjkP+t5QCvgLuU/ZeGkJmil5T/gSAki8BvmP1qwbR14kuY/1BfSGAAJ5z9OfzYUiH/nP05/NhSIf+c/co6vg1jT5z+VnSjzKCfoP7msoWL5eug/3Lsa0snO6D8Ay5NBmiLpPyPaDLFqduk/R+mFIDvK6T9q+P6PCx7qP44HeP/bceo/",
          "dtype": "f8"
         },
         "y": {
          "bdata": "aW5KOvA8KMCbPNugRiEowGC+wxhxzifAf0wWFQNFJ8B5B7GDAIYmwP2VJkLfkiXAEg/EV7JtJMCOBPkHRhkjwPZup8ZAmSHArkdcPb/kH8CeR1w9v+QfwJpks6CZ5x/AvFP3RpTwH8Ay0TaQcgAgwP7EcJpGDSDALCh0axwgIMBaPHVMiTogwDaVxIktXiDAgvpl7W2MIMDKvMQQKcYgwDXXxBApxiDAlFTRnxC1IcCgWGx05eUiwH3q3zczJiTAnHbFT3BSJcAYTF+xslYmwIZjOhc3KCfAW1cU0QjBJ8Dj3p3j1h0owHtuSjrwPCjAhm5KOvA8KMB8X4cDNCgowOIUMzQ96ifACB56cfeDJ8CABB7RNPcmwMLZJ/R3RybA9PQhoNN7JcCAYhEZBaQkwNUFkMVV5iPAHvVNjceSI8CE9E2Nx5IjwPHBXTfxhCPAfm1vpYxbI8AUlp1U/RYjwHKgKHT4tyLA5rGZvKg/IsC+vQ1S7K8hwOZpZoTJCyHAjYAjj1dYIMASQ30qpzwfwLBCfSqnPB/A/jA7lTtCH8AY++lCGFIfwEdrWLjUaR/AuuyKcRaGH8DbktEOLKMfwIwJ9WemvR/Aj+YgCKrSH8CkDhk/HuAfwJhHXD2/5B/A",
          "dtype": "f8"
         },
         "yaxis": "y"
        },
        {
         "legendgroup": "bands",
         "line": {
          "color": "purple"
         },
         "name": "bands",
         "showlegend": false,
         "type": "scatter",
         "x": {
          "bdata": "AAAAAAAAAADkyEPeG/SUP+TIQ94b9KQ/Vq1lzSlurz/kyEPeG/S0Px671NUiMbo/Vq1lzSluvz/HT3timFXCP+TIQ94b9MQ/AUIMWp+Sxz8BQgxan5LHP/UQ1VCvf8g/6d+dR79syT/ermY+z1nKP9J9LzXfRss/xkz4K+8zzD+6G8Ei/yDNP67qiRkPDs4/orlSEB/7zj+WiBsHL+jPP5aIGwcv6M8/uvq6da9X0T8oMehnR7vSP5ZnFVrfHtQ/BJ5CTHeC1T9y1G8+D+bWP+EKnTCnSdg/T0HKIj+t2T+9d/cU1xDbPyyuJAdvdNw/LK4kB2903D8LIfJMxpbdP+uTv5Idud4/ygaN2HTb3z/VPC0P5n7gP0T2E7IREOE/tK/6VD2h4T8jaeH3aDLiP5MiyJqUw+I/A9yuPcBU4z8D3K49wFTjP31DEzlIy+M/96p3NNBB5D9xEtwvWLjkP+t5QCvgLuU/ZeGkJmil5T/gSAki8BvmP1qwbR14kuY/1BfSGAAJ5z9OfzYUiH/nP05/NhSIf+c/co6vg1jT5z+VnSjzKCfoP7msoWL5eug/3Lsa0snO6D8Ay5NBmiLpPyPaDLFqduk/R+mFIDvK6T9q+P6PCx7qP44HeP/bceo/",
          "dtype": "f8"
         },
         "y": {
          "bdata": "AIEPTkrFw7/wfSPYH5/fv6AJXZnMPPS/ymXkYkmKAcDVn3YfxmMJwD5+DmONrxDAf7R7l1CqFMDSfSJTp5EYwK56NNYWVRzAvfU+OL/kH8Cy9T44v+QfwKZrtJdD3R/AjfIjh9HGH8ByI9Qwa6EfwEwWJ6wVbR/AYt794NUpH8D6dp4htNcewKwKnpG6dh7ASmshaPQGHsAy+6kMb4gdwC+uqQxviB3AZyQO7gO1G8DFMdmDn18ZwE4s3FZ6ixbAoVrtbns9E8AQa2fIQ/sOwDpF1VqFtgbAvmybmL/o+78AOZitwmrmv4C2CU5KxcO/IC0PTkrFw78Y6s44t8PivwD4vdpg/fe/ko2KU41KBMBhJXfsl54MwOAI2xwgSxLARQbzJsH2FcBQXTxHLSgZwM5YdYQMjRvAGqxa10OCHMCGq1rXQ4IcwMKww5S4cxzAqQEc/8pKHMB2FuzEnhAcwBZUg6gE2BvAsicZ04LCG8CVPwkr1v8bwG2xxfJ4tRzAAdiVxY/ZHcBuqqsnpzwfwMaqqyenPB/AXedYkjtCH8CWxEM/GFIfwHpdprTUaR/A3k9dbRaGH8CZ1IMKLKMfwLDTo2OmvR/A6NXlA6rSH8D43rk6HuAfwLb1Pji/5B/A",
          "dtype": "f8"
         },
         "yaxis": "y"
        },
        {
         "legendgroup": "bands",
         "line": {
          "color": "purple"
         },
         "name": "bands",
         "showlegend": false,
         "type": "scatter",
         "x": {
          "bdata": "AAAAAAAAAADkyEPeG/SUP+TIQ94b9KQ/Vq1lzSlurz/kyEPeG/S0Px671NUiMbo/Vq1lzSluvz/HT3timFXCP+TIQ94b9MQ/AUIMWp+Sxz8BQgxan5LHP/UQ1VCvf8g/6d+dR79syT/ermY+z1nKP9J9LzXfRss/xkz4K+8zzD+6G8Ei/yDNP67qiRkPDs4/orlSEB/7zj+WiBsHL+jPP5aIGwcv6M8/uvq6da9X0T8oMehnR7vSP5ZnFVrfHtQ/BJ5CTHeC1T9y1G8+D+bWP+EKnTCnSdg/T0HKIj+t2T+9d/cU1xDbPyyuJAdvdNw/LK4kB2903D8LIfJMxpbdP+uTv5Idud4/ygaN2HTb3z/VPC0P5n7gP0T2E7IREOE/tK/6VD2h4T8jaeH3aDLiP5MiyJqUw+I/A9yuPcBU4z8D3K49wFTjP31DEzlIy+M/96p3NNBB5D9xEtwvWLjkP+t5QCvgLuU/ZeGkJmil5T/gSAki8BvmP1qwbR14kuY/1BfSGAAJ5z9OfzYUiH/nP05/NhSIf+c/co6vg1jT5z+VnSjzKCfoP7msoWL5eug/3Lsa0snO6D8Ay5NBmiLpPyPaDLFqduk/R+mFIDvK6T9q+P6PCx7qP44HeP/bceo/",
          "dtype": "f8"
         },
         "y": {
          "bdata": "ICDHO0XFw7+gum0NkIjXvxg07MGmqeq/nLf87rKT9b/uhehXrUX9v6P+/g2U8QHAQQctmBOXBMDQxirCVoMGwJmueBGirQfAAFkrMocRCMDbWCsyhxEIwFlw67fabwjAqQ5JKnd0CcCIy3y7VOsKwHN7zZ75nAzAhnCFQsdbDsAAnVg+ygIQwAmvpIylwBDAJ9gk33ZeEcC7x1KfVdYRwGK0Up9V1hHAyMQ4wOpHEsB04XvrEW8RwJa96twSRw/ASegqecFcCsDD7xHNEI0EwEL9DCVbjfy/kN6YGvVN8L8QRwu1l/HZvyC3wztFxcO/oPjCO0XFw7/AXKWKx3DMvwBu/UHSHdm/gF1x/5pe47/wvI8ceibqv8QBFHBhEvC/ZBlIZHp98r+UYXUzLT/0v4TPil3YTvW/qBXv+o+p9b+ADu/6j6n1v+RBIBVYfvm/CnXLUr4RAcCcoTOPcAgGwNkCL3AtwQrAwjnKK5KvDsDLcqd1kqoQwCYQm5rvLBHAvxCqCBXnEMAL6rVzHwoQwJ3ptXMfChDARD7zSJXiD8D051OTFFEPwFB+3EkPag7AkIpxwJo+DcDGP76EMucLwD8ul0evhQrAJtGMdZpHCcCtzUeAtWQIwOlYKzKHEQjA",
          "dtype": "f8"
         },
         "yaxis": "y"
        },
        {
         "legendgroup": "bands",
         "line": {
          "color": "purple"
         },
         "name": "bands",
         "showlegend": false,
         "type": "scatter",
         "x": {
          "bdata": "AAAAAAAAAADkyEPeG/SUP+TIQ94b9KQ/Vq1lzSlurz/kyEPeG/S0Px671NUiMbo/Vq1lzSluvz/HT3timFXCP+TIQ94b9MQ/AUIMWp+Sxz8BQgxan5LHP/UQ1VCvf8g/6d+dR79syT/ermY+z1nKP9J9LzXfRss/xkz4K+8zzD+6G8Ei/yDNP67qiRkPDs4/orlSEB/7zj+WiBsHL+jPP5aIGwcv6M8/uvq6da9X0T8oMehnR7vSP5ZnFVrfHtQ/BJ5CTHeC1T9y1G8+D+bWP+EKnTCnSdg/T0HKIj+t2T+9d/cU1xDbPyyuJAdvdNw/LK4kB2903D8LIfJMxpbdP+uTv5Idud4/ygaN2HTb3z/VPC0P5n7gP0T2E7IREOE/tK/6VD2h4T8jaeH3aDLiP5MiyJqUw+I/A9yuPcBU4z8D3K49wFTjP31DEzlIy+M/96p3NNBB5D9xEtwvWLjkP+t5QCvgLuU/ZeGkJmil5T/gSAki8BvmP1qwbR14kuY/1BfSGAAJ5z9OfzYUiH/nP05/NhSIf+c/co6vg1jT5z+VnSjzKCfoP7msoWL5eug/3Lsa0snO6D8Ay5NBmiLpPyPaDLFqduk/R+mFIDvK6T9q+P6PCx7qP44HeP/bceo/",
          "dtype": "f8"
         },
         "y": {
          "bdata": "gFG1O0XFw7+w+kJujojXvxgXTP+lqeq/YAAMkrKT9b/savH/rEX9v6mEqeST8QHApDe1cBOXBMBcFUWcVoMGwJSvxeyhrQfAOcO8EYcRCMArw7wRhxEIwI836eJqBgjAIh73yh/lB8CcleFFx60HwJNC93aWYAfAzfEX0Ob9BsB/5yRuIYYGwCDr27nP+QXAzIt1qppZBcCz1CYST6YEwD5+JxJPpgTAdlHxLjokAsBgjDf2O0j+vwi+Tjocu/e/BC0iI8k88b8Qi+QW8Afnv2A3CDP4ody/8CcLBcZw0b9gTrxF7EHHv8CcsjtFxcO/wOCzO0XFw79gwpSKx3DMv6D89EHSHdm/8FFt/5pe47/Y0osceibqvwQaEnBhEvC/aDxGZHp98r80jXMzLT/0v0gAiV3YTvW/4Ent+o+p9b/ENO36j6n1v0D5tpnhefa/zAJ7Sfbm+L+AAcPwYNn8v1C+X9cjCQHA0BkxMB8WBMAbnh3yHVgHwFduXOA+lArAT7STTeWRDcAYY7RgHwoQwP5itGAfChDA8ATNIpXiD8CQJ6ltFFEPwGWTliMPag7A/BE+mpo+DcCEq49eMucLwLZ4dyGvhQrAzG4NUJpHCcDE9LlbtWQIwD3DvBGHEQjA",
          "dtype": "f8"
         },
         "yaxis": "y"
        },
        {
         "legendgroup": "bands",
         "line": {
          "color": "purple"
         },
         "name": "bands",
         "showlegend": false,
         "type": "scatter",
         "x": {
          "bdata": "AAAAAAAAAADkyEPeG/SUP+TIQ94b9KQ/Vq1lzSlurz/kyEPeG/S0Px671NUiMbo/Vq1lzSluvz/HT3timFXCP+TIQ94b9MQ/AUIMWp+Sxz8BQgxan5LHP/UQ1VCvf8g/6d+dR79syT/ermY+z1nKP9J9LzXfRss/xkz4K+8zzD+6G8Ei/yDNP67qiRkPDs4/orlSEB/7zj+WiBsHL+jPP5aIGwcv6M8/uvq6da9X0T8oMehnR7vSP5ZnFVrfHtQ/BJ5CTHeC1T9y1G8+D+bWP+EKnTCnSdg/T0HKIj+t2T+9d/cU1xDbPyyuJAdvdNw/LK4kB2903D8LIfJMxpbdP+uTv5Idud4/ygaN2HTb3z/VPC0P5n7gP0T2E7IREOE/tK/6VD2h4T8jaeH3aDLiP5MiyJqUw+I/A9yuPcBU4z8D3K49wFTjP31DEzlIy+M/96p3NNBB5D9xEtwvWLjkP+t5QCvgLuU/ZeGkJmil5T/gSAki8BvmP1qwbR14kuY/1BfSGAAJ5z9OfzYUiH/nP05/NhSIf+c/co6vg1jT5z+VnSjzKCfoP7msoWL5eug/3Lsa0snO6D8Ay5NBmiLpPyPaDLFqduk/R+mFIDvK6T9q+P6PCx7qP44HeP/bceo/",
          "dtype": "f8"
         },
         "y": {
          "bdata": "5AAJ1YtCA0AoiHsSXToCQCzOLGaHQv8/2FsIWwXI+D+wuYJSr27yPxAIXDoaG+o/wO1OEPhD4j9QpzIW1e7bPxCu3rg3Uts/aGTGlXO14T8gZcaVc7XhPzBk3IO+6OE/ENiia2uC4j94S5osCYLjP1DwCsj55uQ/UGanECav5j9AZkHNDNnoPxDrOEygYus/gAiUItlI7j94mhohAMTwPxSsGyEAxPA/uH1i236U9j9Yr+77unr9P6zDOi08WwJAlBIwCmdwBUCABRD2WBYHQHCLLualGgdAgOupZuxBBUBcxP2UeMIDQHw0MdWLQgNAQM4O1YtCA0DQ7VuSMMQDQOCAwZ5PHgNAYD6QF32SAUBM1MFBVqn/P5Bg56hcbPw/BJrkHxK8+T84naPYeb/3PzCEyqDWiPY/OK3OuK4g9j+wzM64riD2P7TdAMagmvk/HjXncYZHAEB8u8/ggW8DQIiK5vuWDQZAeD5c3Bo7CEAkEPEcQJsJQLRvWCPlpgtAxIyukLk9DkBevqFQTHYQQNjbo1BMdhBAiAG/W23kDUC040NoBkoJQNhC7gaEwARA+ioqNXSAAEDg+VisElD5PyQp8I6vr/I/0CVYijHr6j/AswyschnkP6BkxpVzteE/",
          "dtype": "f8"
         },
         "yaxis": "y"
        },
        {
         "legendgroup": "bands",
         "line": {
          "color": "purple"
         },
         "name": "bands",
         "showlegend": false,
         "type": "scatter",
         "x": {
          "bdata": "AAAAAAAAAADkyEPeG/SUP+TIQ94b9KQ/Vq1lzSlurz/kyEPeG/S0Px671NUiMbo/Vq1lzSluvz/HT3timFXCP+TIQ94b9MQ/AUIMWp+Sxz8BQgxan5LHP/UQ1VCvf8g/6d+dR79syT/ermY+z1nKP9J9LzXfRss/xkz4K+8zzD+6G8Ei/yDNP67qiRkPDs4/orlSEB/7zj+WiBsHL+jPP5aIGwcv6M8/uvq6da9X0T8oMehnR7vSP5ZnFVrfHtQ/BJ5CTHeC1T9y1G8+D+bWP+EKnTCnSdg/T0HKIj+t2T+9d/cU1xDbPyyuJAdvdNw/LK4kB2903D8LIfJMxpbdP+uTv5Idud4/ygaN2HTb3z/VPC0P5n7gP0T2E7IREOE/tK/6VD2h4T8jaeH3aDLiP5MiyJqUw+I/A9yuPcBU4z8D3K49wFTjP31DEzlIy+M/96p3NNBB5D9xEtwvWLjkP+t5QCvgLuU/ZeGkJmil5T/gSAki8BvmP1qwbR14kuY/1BfSGAAJ5z9OfzYUiH/nP05/NhSIf+c/co6vg1jT5z+VnSjzKCfoP7msoWL5eug/3Lsa0snO6D8Ay5NBmiLpPyPaDLFqduk/R+mFIDvK6T9q+P6PCx7qP44HeP/bceo/",
          "dtype": "f8"
         },
         "y": {
          "bdata": "zIPmA4xCA0AkF/HMcn8FQCRVK81SzgpATMbHmRKXEEDg1sYWkTgLQHAoYECgigRAkEdJgg1h/T8Y82W9fgr0P4Dtsdf8buo/oKOnuXa14T/wo6e5drXhP1hqdQxU5uM/qM+NKaEg6j/gqKk7AM/xP8Qp6OEGx/c/pKURWA+n/j+0RglrrhoDQFDFXrP7JAdA1EHkbCdkC0D83Ct9v8sPQDgPLH2/yw9AuqFzsZWXFkBu6BGWe7MVQKZ+VyFbihJAfL1iOH2tD0CkONMrLzoLQHy3T6TDvwdA+ME2et45BkAk27/wjjQEQCjJ5gOMQgNAiIzmA4xCA0CETs/g6g0EQIx/jT3KDwZAvHgxY9lxCEB8BZRmjUoKQNCQHcBbBwtAlCXYm/fPCkDkf1sSkjQKQECGc2v6rAlA6FtWCrd5CUB8nVYKt3kJQIz8ODjSHQlA4M8lWh1VCEDYXxSfVK8HQIT319e2lwdAoLTXaemQCEDsL5sEhToLQHyMRux9GA5A4JEvXMVtEEAgHGAITXYQQDxIYAhNdhBACO0qoG7kDUDAqm6JB0oJQEAvvwGFwARAHh3wGHWAAEDEwJhPFFD5P2wjrgyxr/I/sFPHUjTr6j9INYxhdRnkP4ijp7l2teE/",
          "dtype": "f8"
         },
         "yaxis": "y"
        },
        {
         "legendgroup": "bands",
         "line": {
          "color": "purple"
         },
         "name": "bands",
         "showlegend": false,
         "type": "scatter",
         "x": {
          "bdata": "AAAAAAAAAADkyEPeG/SUP+TIQ94b9KQ/Vq1lzSlurz/kyEPeG/S0Px671NUiMbo/Vq1lzSluvz/HT3timFXCP+TIQ94b9MQ/AUIMWp+Sxz8BQgxan5LHP/UQ1VCvf8g/6d+dR79syT/ermY+z1nKP9J9LzXfRss/xkz4K+8zzD+6G8Ei/yDNP67qiRkPDs4/orlSEB/7zj+WiBsHL+jPP5aIGwcv6M8/uvq6da9X0T8oMehnR7vSP5ZnFVrfHtQ/BJ5CTHeC1T9y1G8+D+bWP+EKnTCnSdg/T0HKIj+t2T+9d/cU1xDbPyyuJAdvdNw/LK4kB2903D8LIfJMxpbdP+uTv5Idud4/ygaN2HTb3z/VPC0P5n7gP0T2E7IREOE/tK/6VD2h4T8jaeH3aDLiP5MiyJqUw+I/A9yuPcBU4z8D3K49wFTjP31DEzlIy+M/96p3NNBB5D9xEtwvWLjkP+t5QCvgLuU/ZeGkJmil5T/gSAki8BvmP1qwbR14kuY/1BfSGAAJ5z9OfzYUiH/nP05/NhSIf+c/co6vg1jT5z+VnSjzKCfoP7msoWL5eug/3Lsa0snO6D8Ay5NBmiLpPyPaDLFqduk/R+mFIDvK6T9q+P6PCx7qP44HeP/bceo/",
          "dtype": "f8"
         },
         "y": {
          "bdata": "gLzmA4xCA0AIxBTtcn8FQGwube1SzgpApLAbxwfEEEAYcWTpV3oUQM6C7hqUZBhAJjgFfrxxHECiA2MQckwgQEEVIqLGYyJA5k6mHvrpI0D3oXyGEOojQC1I1Z2pwyNAW5wQGb1rI0AgBsJiVMsiQBo1OWpCJiJARbaib0d0IUBzJZd9/L4gQNLZLZrRCSBAFjcxAHunHkAA6s1RNEMdQIBkJGeQQx1A5jm0VAJLGUB40uIaMAEXQKzGVFX16xNAkJuOPfwjEUAkceBUUY0NQPA7NjX4pAlA2M+QShCCBkAozchundcEQDCrDgSMQgNAYGfoA4xCA0DM+dTg6g0EQKzWjT3KDwZA+LAxY9lxCECwMZRmjUoKQJQPH8BbBwtAiEjYm/fPCkAw5lsSkjQKQIgJdGv6rAlAcOdWCrd5CUBQdVcKt3kJQLi/hCl9WgpA5Ka5v8hRDUByoOgB41sRQL6aPR1x/hRA0rxCeLgqGUCMG9JAgcoXQA4RT0B+axVATGX9nmmEE0Bqg1y2MGUTQJaYY7YwZRNAFF58pIIEFUBCD+6RnqMXQJCHiwGzcRpA8GwuyOdSHUBz2IrLFhwgQFqiZZVfhSFA6ZNbMCDKIkBJ+kNIVqcjQGQ+m+QO6iNA",
          "dtype": "f8"
         },
         "yaxis": "y"
        },
        {
         "legendgroup": "bands",
         "line": {
          "color": "purple"
         },
         "name": "bands",
         "showlegend": false,
         "type": "scatter",
         "x": {
          "bdata": "AAAAAAAAAADkyEPeG/SUP+TIQ94b9KQ/Vq1lzSlurz/kyEPeG/S0Px671NUiMbo/Vq1lzSluvz/HT3timFXCP+TIQ94b9MQ/AUIMWp+Sxz8BQgxan5LHP/UQ1VCvf8g/6d+dR79syT/ermY+z1nKP9J9LzXfRss/xkz4K+8zzD+6G8Ei/yDNP67qiRkPDs4/orlSEB/7zj+WiBsHL+jPP5aIGwcv6M8/uvq6da9X0T8oMehnR7vSP5ZnFVrfHtQ/BJ5CTHeC1T9y1G8+D+bWP+EKnTCnSdg/T0HKIj+t2T+9d/cU1xDbPyyuJAdvdNw/LK4kB2903D8LIfJMxpbdP+uTv5Idud4/ygaN2HTb3z/VPC0P5n7gP0T2E7IREOE/tK/6VD2h4T8jaeH3aDLiP5MiyJqUw+I/A9yuPcBU4z8D3K49wFTjP31DEzlIy+M/96p3NNBB5D9xEtwvWLjkP+t5QCvgLuU/ZeGkJmil5T/gSAki8BvmP1qwbR14kuY/1BfSGAAJ5z9OfzYUiH/nP05/NhSIf+c/co6vg1jT5z+VnSjzKCfoP7msoWL5eug/3Lsa0snO6D8Ay5NBmiLpPyPaDLFqduk/R+mFIDvK6T9q+P6PCx7qP44HeP/bceo/",
          "dtype": "f8"
         },
         "y": {
          "bdata": "QJVjxQi1CUDcxNKwAlEMQPg0PpHglhBAaLv/2AfEEEDCfj/4V3oUQN6A0CuUZBhAWiP/i7xxHECsvssdckwgQD6J0AvJYyJA2ND4nlrqI0CwYQrVP+sjQE3jB8Ut1iNAeS4LS8egI0BHp8/BVUMjQCQJERBp3iJA7GpIYi50IkBw74a8fdUhQAF24mvwRyFAtdX0NVxzIECsBhuxZYYfQLbL74k/eB9AsOgyX7SzG0AshPYl1UQaQNbIEloY+hdA9tnZJAiGFkD6GBND3QwWQKYmaPl/lhVA+GLLVGSxEkD0vIt9pDANQBSdc8UItQlAIERsxQi1CUB050E4/BgMQOhdaBJBSBFAeE53t1I0FUCcYkEHWSwZQABYMSaL6xxA4CyhOOnhHkDmyhAIh9QeQPoDXln+cx5ALnFUC3lMHkDwqboLeUweQP7Dp7VfxB5AxCmaupC2H0CaPJkujLkfQHAu0KzGWR1AZrFeLcdyGkAS/ETmVncZQGxdNANYMRdAuAu7hLQXFUD21PzPMGUTQIIV/M8wZRNAojRNM4MEFUD8yfRHn6MXQKq/S9GzcRpACEGb1ehSHUBWdR1SFxwgQB9MANNhhSFAsp83VEDKIkBxCXdz0qcjQIiisRxK6iNA",
          "dtype": "f8"
         },
         "yaxis": "y"
        }
       ],
       "layout": {
        "legend": {
         "itemsizing": "constant"
        },
        "template": {
         "data": {
          "bar": [
           {
            "error_x": {
             "color": "rgb(51,51,51)"
            },
            "error_y": {
             "color": "rgb(51,51,51)"
            },
            "marker": {
             "line": {
              "color": "rgb(237,237,237)",
              "width": 0.5
             },
             "pattern": {
              "fillmode": "overlay",
              "size": 10,
              "solidity": 0.2
             }
            },
            "type": "bar"
           }
          ],
          "barpolar": [
           {
            "marker": {
             "line": {
              "color": "rgb(237,237,237)",
              "width": 0.5
             },
             "pattern": {
              "fillmode": "overlay",
              "size": 10,
              "solidity": 0.2
             }
            },
            "type": "barpolar"
           }
          ],
          "carpet": [
           {
            "aaxis": {
             "endlinecolor": "rgb(51,51,51)",
             "gridcolor": "white",
             "linecolor": "white",
             "minorgridcolor": "white",
             "startlinecolor": "rgb(51,51,51)"
            },
            "baxis": {
             "endlinecolor": "rgb(51,51,51)",
             "gridcolor": "white",
             "linecolor": "white",
             "minorgridcolor": "white",
             "startlinecolor": "rgb(51,51,51)"
            },
            "type": "carpet"
           }
          ],
          "choropleth": [
           {
            "colorbar": {
             "outlinewidth": 0,
             "tickcolor": "rgb(237,237,237)",
             "ticklen": 6,
             "ticks": "inside"
            },
            "type": "choropleth"
           }
          ],
          "contour": [
           {
            "colorbar": {
             "outlinewidth": 0,
             "tickcolor": "rgb(237,237,237)",
             "ticklen": 6,
             "ticks": "inside"
            },
            "colorscale": [
             [
              0,
              "#3E70EA"
             ],
             [
              0.5,
              "#424242"
             ],
             [
              1,
              "#A82C35"
             ]
            ],
            "type": "contour"
           }
          ],
          "contourcarpet": [
           {
            "colorbar": {
             "outlinewidth": 0,
             "tickcolor": "rgb(237,237,237)",
             "ticklen": 6,
             "ticks": "inside"
            },
            "type": "contourcarpet"
           }
          ],
          "heatmap": [
           {
            "colorbar": {
             "outlinewidth": 0,
             "tickcolor": "rgb(237,237,237)",
             "ticklen": 6,
             "ticks": "inside"
            },
            "colorscale": [
             [
              0,
              "rgb(20,44,66)"
             ],
             [
              1,
              "rgb(90,179,244)"
             ]
            ],
            "type": "heatmap"
           }
          ],
          "histogram": [
           {
            "marker": {
             "pattern": {
              "fillmode": "overlay",
              "size": 10,
              "solidity": 0.2
             }
            },
            "type": "histogram"
           }
          ],
          "histogram2d": [
           {
            "colorbar": {
             "outlinewidth": 0,
             "tickcolor": "rgb(237,237,237)",
             "ticklen": 6,
             "ticks": "inside"
            },
            "colorscale": [
             [
              0,
              "rgb(20,44,66)"
             ],
             [
              1,
              "rgb(90,179,244)"
             ]
            ],
            "type": "histogram2d"
           }
          ],
          "histogram2dcontour": [
           {
            "colorbar": {
             "outlinewidth": 0,
             "tickcolor": "rgb(237,237,237)",
             "ticklen": 6,
             "ticks": "inside"
            },
            "colorscale": [
             [
              0,
              "rgb(20,44,66)"
             ],
             [
              1,
              "rgb(90,179,244)"
             ]
            ],
            "type": "histogram2dcontour"
           }
          ],
          "mesh3d": [
           {
            "colorbar": {
             "outlinewidth": 0,
             "tickcolor": "rgb(237,237,237)",
             "ticklen": 6,
             "ticks": "inside"
            },
            "type": "mesh3d"
           }
          ],
          "parcoords": [
           {
            "line": {
             "colorbar": {
              "outlinewidth": 0,
              "tickcolor": "rgb(237,237,237)",
              "ticklen": 6,
              "ticks": "inside"
             }
            },
            "type": "parcoords"
           }
          ],
          "pie": [
           {
            "automargin": true,
            "type": "pie"
           }
          ],
          "scatter": [
           {
            "fillpattern": {
             "fillmode": "overlay",
             "size": 10,
             "solidity": 0.2
            },
            "type": "scatter"
           }
          ],
          "scatter3d": [
           {
            "line": {
             "colorbar": {
              "outlinewidth": 0,
              "tickcolor": "rgb(237,237,237)",
              "ticklen": 6,
              "ticks": "inside"
             }
            },
            "marker": {
             "colorbar": {
              "outlinewidth": 0,
              "tickcolor": "rgb(237,237,237)",
              "ticklen": 6,
              "ticks": "inside"
             }
            },
            "type": "scatter3d"
           }
          ],
          "scattercarpet": [
           {
            "marker": {
             "colorbar": {
              "outlinewidth": 0,
              "tickcolor": "rgb(237,237,237)",
              "ticklen": 6,
              "ticks": "inside"
             }
            },
            "type": "scattercarpet"
           }
          ],
          "scattergeo": [
           {
            "marker": {
             "colorbar": {
              "outlinewidth": 0,
              "tickcolor": "rgb(237,237,237)",
              "ticklen": 6,
              "ticks": "inside"
             }
            },
            "type": "scattergeo"
           }
          ],
          "scattergl": [
           {
            "marker": {
             "colorbar": {
              "outlinewidth": 0,
              "tickcolor": "rgb(237,237,237)",
              "ticklen": 6,
              "ticks": "inside"
             }
            },
            "type": "scattergl"
           }
          ],
          "scattermap": [
           {
            "marker": {
             "colorbar": {
              "outlinewidth": 0,
              "tickcolor": "rgb(237,237,237)",
              "ticklen": 6,
              "ticks": "inside"
             }
            },
            "type": "scattermap"
           }
          ],
          "scattermapbox": [
           {
            "marker": {
             "colorbar": {
              "outlinewidth": 0,
              "tickcolor": "rgb(237,237,237)",
              "ticklen": 6,
              "ticks": "inside"
             }
            },
            "type": "scattermapbox"
           }
          ],
          "scatterpolar": [
           {
            "marker": {
             "colorbar": {
              "outlinewidth": 0,
              "tickcolor": "rgb(237,237,237)",
              "ticklen": 6,
              "ticks": "inside"
             }
            },
            "type": "scatterpolar"
           }
          ],
          "scatterpolargl": [
           {
            "marker": {
             "colorbar": {
              "outlinewidth": 0,
              "tickcolor": "rgb(237,237,237)",
              "ticklen": 6,
              "ticks": "inside"
             }
            },
            "type": "scatterpolargl"
           }
          ],
          "scatterternary": [
           {
            "marker": {
             "colorbar": {
              "outlinewidth": 0,
              "tickcolor": "rgb(237,237,237)",
              "ticklen": 6,
              "ticks": "inside"
             }
            },
            "type": "scatterternary"
           }
          ],
          "surface": [
           {
            "colorbar": {
             "outlinewidth": 0,
             "tickcolor": "rgb(237,237,237)",
             "ticklen": 6,
             "ticks": "inside"
            },
            "colorscale": [
             [
              0,
              "rgb(20,44,66)"
             ],
             [
              1,
              "rgb(90,179,244)"
             ]
            ],
            "type": "surface"
           }
          ],
          "table": [
           {
            "cells": {
             "fill": {
              "color": "rgb(237,237,237)"
             },
             "line": {
              "color": "white"
             }
            },
            "header": {
             "fill": {
              "color": "rgb(217,217,217)"
             },
             "line": {
              "color": "white"
             }
            },
            "type": "table"
           }
          ]
         },
         "layout": {
          "annotationdefaults": {
           "arrowhead": 0,
           "arrowwidth": 1
          },
          "autotypenumbers": "strict",
          "coloraxis": {
           "colorbar": {
            "outlinewidth": 0,
            "tickcolor": "rgb(237,237,237)",
            "ticklen": 6,
            "ticks": "inside"
           }
          },
          "colorscale": {
           "sequential": [
            [
             0,
             "rgb(20,44,66)"
            ],
            [
             1,
             "rgb(90,179,244)"
            ]
           ],
           "sequentialminus": [
            [
             0,
             "rgb(20,44,66)"
            ],
            [
             1,
             "rgb(90,179,244)"
            ]
           ]
          },
          "colorway": [
           "#8342A4",
           "#35CABF",
           "#3E70EA",
           "#A82C35",
           "#424242",
           "#202429",
           "#89AD01"
          ],
          "font": {
           "color": "rgb(51,51,51)"
          },
          "geo": {
           "bgcolor": "white",
           "lakecolor": "white",
           "landcolor": "rgb(237,237,237)",
           "showlakes": true,
           "showland": true,
           "subunitcolor": "white"
          },
          "hoverlabel": {
           "align": "left"
          },
          "hovermode": "closest",
          "paper_bgcolor": "white",
          "plot_bgcolor": "rgb(237,237,237)",
          "polar": {
           "angularaxis": {
            "gridcolor": "white",
            "linecolor": "white",
            "showgrid": true,
            "tickcolor": "rgb(51,51,51)",
            "ticks": "outside"
           },
           "bgcolor": "rgb(237,237,237)",
           "radialaxis": {
            "gridcolor": "white",
            "linecolor": "white",
            "showgrid": true,
            "tickcolor": "rgb(51,51,51)",
            "ticks": "outside"
           }
          },
          "scene": {
           "xaxis": {
            "backgroundcolor": "rgb(237,237,237)",
            "gridcolor": "white",
            "gridwidth": 2,
            "linecolor": "white",
            "showbackground": true,
            "showgrid": true,
            "tickcolor": "rgb(51,51,51)",
            "ticks": "outside",
            "zerolinecolor": "white"
           },
           "yaxis": {
            "backgroundcolor": "rgb(237,237,237)",
            "gridcolor": "white",
            "gridwidth": 2,
            "linecolor": "white",
            "showbackground": true,
            "showgrid": true,
            "tickcolor": "rgb(51,51,51)",
            "ticks": "outside",
            "zerolinecolor": "white"
           },
           "zaxis": {
            "backgroundcolor": "rgb(237,237,237)",
            "gridcolor": "white",
            "gridwidth": 2,
            "linecolor": "white",
            "showbackground": true,
            "showgrid": true,
            "tickcolor": "rgb(51,51,51)",
            "ticks": "outside",
            "zerolinecolor": "white"
           }
          },
          "ternary": {
           "aaxis": {
            "gridcolor": "white",
            "linecolor": "white",
            "showgrid": true,
            "tickcolor": "rgb(51,51,51)",
            "ticks": "outside"
           },
           "baxis": {
            "gridcolor": "white",
            "linecolor": "white",
            "showgrid": true,
            "tickcolor": "rgb(51,51,51)",
            "ticks": "outside"
           },
           "bgcolor": "rgb(237,237,237)",
           "caxis": {
            "gridcolor": "white",
            "linecolor": "white",
            "showgrid": true,
            "tickcolor": "rgb(51,51,51)",
            "ticks": "outside"
           }
          },
          "xaxis": {
           "automargin": true,
           "exponentformat": "power",
           "gridcolor": "white",
           "linecolor": "white",
           "showexponent": "all",
           "showgrid": true,
           "tickcolor": "rgb(51,51,51)",
           "ticks": "outside",
           "title": {
            "standoff": 15
           },
           "zerolinecolor": "white"
          },
          "yaxis": {
           "automargin": true,
           "exponentformat": "power",
           "gridcolor": "white",
           "linecolor": "white",
           "showexponent": "all",
           "showgrid": true,
           "tickcolor": "rgb(51,51,51)",
           "ticks": "outside",
           "title": {
            "standoff": 15
           },
           "zerolinecolor": "white"
          }
         }
        },
        "xaxis": {
         "tickmode": "array",
         "ticktext": [
          "GAMMA",
          "X",
          "U|K",
          "GAMMA",
          "L",
          "W",
          "X"
         ],
         "tickvals": [
          0,
          0.1841620626151013,
          0.2492731842713211,
          0.44460654923998066,
          0.6040955738779988,
          0.7343178171904385,
          0.8263988484979892
         ]
        },
        "yaxis": {
         "title": {
          "text": "Energy (eV)"
         }
        }
       }
      }
     },
     "metadata": {},
     "output_type": "display_data"
    }
   ],
   "source": [
    "import py4vasp\n",
    "e02_calc = py4vasp.Calculation.from_path(\"./e01_Si-G0W0\")\n",
    "\n",
    "d = e02_calc.band.to_dict(selection=\"kpoints_opt\")\n",
    "\n",
    "#  wannier90_band.dat 第一列最后一行\n",
    "x = 0.51924171E+01\n",
    "\n",
    "with open(\"./e02_Si-GW0-band/band-structure/e01_kpoints_opt_band.dat\", \"w\") as f:\n",
    "    for i in range(8):\n",
    "        for k in range(60):\n",
    "            f.write(str(d['kpoint_distances'][k]/d['kpoint_distances'][-1]*x) + \" \" + str(d['bands'][k, i]+d['fermi_energy']) + \"\\n\")\n",
    "        f.write(\"\\n\")\n",
    "        \n",
    "print(\"DFT E-fermi: \", d['fermi_energy'])\n",
    "e02_calc.band.plot(selection=\"kpoints_opt\")"
   ]
  },
  {
   "cell_type": "markdown",
   "id": "884267cd",
   "metadata": {},
   "source": [
    "## 接下来生成对比，用wannier90局域插值的和DFT（PBE）的能带进行对比。\n",
    "\n",
    "```shell\n",
    "echo \"\"\"\n",
    "\n",
    "set out 'band_DFT_vs_GW.png'\n",
    "plot 'wannier90_band.dat', 'e01_kpoints_opt_band.dat' w l, 5.628\n",
    "\n",
    "\"\"\" >> band.gp\n",
    "gnuplot band.gp\n",
    "```\n"
   ]
  },
  {
   "cell_type": "markdown",
   "id": "ff17d718",
   "metadata": {},
   "source": [
    "![band_DFT_vs_GW.png](./figures/band_DFT_vs_GW.png)\n"
   ]
  }
 ],
 "metadata": {
  "kernelspec": {
   "display_name": "vasp_plot",
   "language": "python",
   "name": "python3"
  },
  "language_info": {
   "codemirror_mode": {
    "name": "ipython",
    "version": 3
   },
   "file_extension": ".py",
   "mimetype": "text/x-python",
   "name": "python",
   "nbconvert_exporter": "python",
   "pygments_lexer": "ipython3",
   "version": "3.12.10"
  }
 },
 "nbformat": 4,
 "nbformat_minor": 5
}
